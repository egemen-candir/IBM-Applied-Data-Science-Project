{
 "cells": [
  {
   "cell_type": "markdown",
   "metadata": {},
   "source": [
    "# Analyzing and Ranking the Turkish Cuisine Restaurants in NYC\n",
    "\n",
    "### Kadir Egemen Candır\n",
    "### December, 3, 2019\n",
    "\n",
    "## 1. Introduction\n",
    "\n",
    "New York City is one of the largest and most ethnically diverse metropolises in the world. With an estimated 2018 population of 8,398,748 distributed over a land area of about 302.6 square miles (784 km2), New York is also the most densely populated major city in the United States. As the largest city in the United States, it attracts regular international immigration. Approximately 37% of the city's population is foreign born, and more than half of all children are born to mothers who are immigrants. In New York, no single country or region of origin dominates. The ten largest sources of foreign-born individuals in the city as of 2011 were the Dominican Republic, China, Mexico, Guyana, Jamaica, Ecuador, Haiti, India, Russia, and Trinidad and Tobago, while the Bangladeshi-born immigrant population has become one of the fastest growing in the city, counting over 74,000 by 2011.\n",
    "\n",
    "### 1.1. Background: Turkish Migration to NYC \n",
    "\n",
    "The Turkish migration flow to the U.S. is relatively small, with an estimated 400,000 long term emigrants settled in the U.S. between the early 19th century and the early 21st century, and less than 100,000 foreign born Turks in the U.S. today. Since the 1980s, the flow of Turkish immigrants to the United States has included an increasing number of students and professionals as well as migrants who provide unskilled and semi-skilled labor. Thus, in recent years, the highly skilled and educated profile of the Turkish American community has changed with the arrival of unskilled or semi-skilled Turkish labor workers. The unskilled or semi-skilled immigrants usually work in restaurants, gas stations, hair salons, construction sites, and grocery stores, although some of them have obtained American citizenship or green cards and have opened their own ethnic businesses.\n",
    "\n",
    "The largest concentrations of Turkish Americans are found scattered throughout New York City, Long Island, New Jersey, Connecticut, and other suburban areas. They generally reside in specific cities and neighborhoods including Brighton Beach in Brooklyn, Sunnyside in Queens, and in the cities of Paterson and Clifton in New Jersey. According to the U.S. Census Bureau, in 2000, Americans of Turkish origin mostly live in the State of New York followed by, California, New Jersey, Florida, Texas, Virginia, Illinois, Massachusetts, Pennsylvania, and Maryland. \n",
    "\n",
    "The top US communities with the highest percentage of people claiming Turkish ancestry in 2000 are:\n",
    "\n",
    "\n",
    "\n",
    "### 1.2. Problem: Rising Interest vs Availability of Turkish Cuisine in NYC\n",
    "\n",
    "As small it may be, the Turkish communities in foreign countries tend to stay loyal to their own cuisine. Prior to the 1980s, the Turkish immigrants in United States used to prepare their own Turkish cuisine food items at their homes and on family, friend gatherings. As the flow of immigration increased after 1980s and especially after 2000s, we have seen increasing number of Turkish cousine restaurants starting to open in its diverse jewel, New York City.\n",
    "\n",
    "Data might contribute to determining where Turkish cousine restaurants are concentrated on which neighborhoods and whether there are neighborhoods that are lacking Turkish cousine restaurants. Thus, we will be able to provide information on where to stay if they would prefer Turkish couisine. Additionally, the outcome would provide some information on where to invest to open a Turkish cousine restaurant by outlining scarcity of such businesses. In this project, we will analyze, list and visualize major parts of New York City that has nice Turkish restaurants and provide insights on the findings."
   ]
  },
  {
   "cell_type": "markdown",
   "metadata": {},
   "source": [
    "### 1.3. Key objectives of analyzing the data set\n",
    "<ul>\n",
    "<li> On which neighborhoods are the best Turkish restaurants?\n",
    "<li> Which neighborhoods lack Turkish cousine?\n",
    "<li> Where to stay to get close to Turkish restaurants?"
   ]
  },
  {
   "cell_type": "markdown",
   "metadata": {},
   "source": [
    "## 2. Data Acquisition and Cleaning\n",
    "\n",
    "### 2.1. Data sources\n",
    "\n",
    "We will use the following data for this project\n",
    "<ul>\n",
    "<li> Boroughs, Neighborhoods data of New York City as well as their latitudes and longitudes.\n",
    "    <ul>\n",
    "        <li>Source : https://cocl.us/new_york_dataset\n",
    "    </ul>\n",
    "<li> Turkish resturants in each neighborhood of NYC.\n",
    "     <ul>\n",
    "        <li>Source : Fousquare API\n",
    "     </ul>\n",
    "<li> GeoSpace data\n",
    "     <ul>\n",
    "        <li>Source : https://data.cityofnewyork.us/City-Government/Borough-Boundaries/tqmj-j8zm\n",
    "     </ul>"
   ]
  },
  {
   "cell_type": "markdown",
   "metadata": {},
   "source": [
    "### 2.2. Methodology\n",
    "<ul>\n",
    "<li> We will collect the New York City data from https://cocl.us/new_york_dataset\n",
    "<li> Using Foursquare API, we will list all venues for each neighborhood\n",
    "<li> We will filter out the venues that are Turkish restaurants\n",
    "<li> We will find the ratings, tips and like count for these restaurants using Foursquare API and sort by ratings\n",
    "<li> We will visualize the ranked neighborhoods using Folium"
   ]
  },
  {
   "cell_type": "markdown",
   "metadata": {},
   "source": [
    "### 2.2.1. Libraries that will be used\n",
    "<ul>\n",
    "<li> Pandas and Numpy for handling the data\n",
    "<li> Geopy to find coordinates of New York City\n",
    "<li> Request for using Foursquare API\n",
    "<li> Folium to visualize the results on the map"
   ]
  },
  {
   "cell_type": "code",
   "execution_count": null,
   "metadata": {},
   "outputs": [],
   "source": []
  }
 ],
 "metadata": {
  "kernelspec": {
   "display_name": "Python 3",
   "language": "python",
   "name": "python3"
  },
  "language_info": {
   "codemirror_mode": {
    "name": "ipython",
    "version": 3
   },
   "file_extension": ".py",
   "mimetype": "text/x-python",
   "name": "python",
   "nbconvert_exporter": "python",
   "pygments_lexer": "ipython3",
   "version": "3.7.3"
  }
 },
 "nbformat": 4,
 "nbformat_minor": 2
}
