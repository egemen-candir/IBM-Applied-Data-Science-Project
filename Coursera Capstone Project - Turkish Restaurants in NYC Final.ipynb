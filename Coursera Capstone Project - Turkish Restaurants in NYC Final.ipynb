{
 "cells": [
  {
   "cell_type": "markdown",
   "metadata": {},
   "source": [
    "# Analyzing and Ranking the Turkish Cuisine Restaurants in NYC\n",
    "\n",
    "### Kadir Egemen Candır\n",
    "### December, 3, 2019\n",
    "\n",
    "## 1. Introduction\n",
    "\n",
    "New York City is one of the largest and most ethnically diverse metropolises in the world. With an estimated 2018 population of 8,398,748 distributed over a land area of about 302.6 square miles (784 km2), New York is also the most densely populated major city in the United States. As the largest city in the United States, it attracts regular international immigration. Approximately 37% of the city's population is foreign born, and more than half of all children are born to mothers who are immigrants. In New York, no single country or region of origin dominates. The ten largest sources of foreign-born individuals in the city as of 2011 were the Dominican Republic, China, Mexico, Guyana, Jamaica, Ecuador, Haiti, India, Russia, and Trinidad and Tobago, while the Bangladeshi-born immigrant population has become one of the fastest growing in the city, counting over 74,000 by 2011.\n",
    "\n",
    "### 1.1. Background: Turkish Migration to NYC \n",
    "\n",
    "The Turkish migration flow to the U.S. is relatively small, with an estimated 400,000 long term emigrants settled in the U.S. between the early 19th century and the early 21st century, and less than 100,000 foreign born Turks in the U.S. today. Since the 1980s, the flow of Turkish immigrants to the United States has included an increasing number of students and professionals as well as migrants who provide unskilled and semi-skilled labor. Thus, in recent years, the highly skilled and educated profile of the Turkish American community has changed with the arrival of unskilled or semi-skilled Turkish labor workers. The unskilled or semi-skilled immigrants usually work in restaurants, gas stations, hair salons, construction sites, and grocery stores, although some of them have obtained American citizenship or green cards and have opened their own ethnic businesses.\n",
    "\n",
    "The largest concentrations of Turkish Americans are found scattered throughout New York City, Long Island, New Jersey, Connecticut, and other suburban areas. They generally reside in specific cities and neighborhoods including Brighton Beach in Brooklyn, Sunnyside in Queens, and in the cities of Paterson and Clifton in New Jersey. According to the U.S. Census Bureau, in 2000, Americans of Turkish origin mostly live in the State of New York followed by, California, New Jersey, Florida, Texas, Virginia, Illinois, Massachusetts, Pennsylvania, and Maryland. \n",
    "\n",
    "The top US communities with the highest percentage of people claiming Turkish ancestry in 2000 are:\n",
    "\n",
    "\n",
    "\n",
    "### 1.2. Problem: Rising Interest vs Availability of Turkish Cuisine in NYC\n",
    "\n",
    "As small it may be, the Turkish communities in foreign countries tend to stay loyal to their own cuisine. Prior to the 1980s, the Turkish immigrants in United States used to prepare their own Turkish cuisine food items at their homes and on family, friend gatherings. As the flow of immigration increased after 1980s and especially after 2000s, we have seen increasing number of Turkish cuisine restaurants starting to open in its diverse jewel, New York City.\n",
    "\n",
    "Data might contribute to determining where Turkish cuisine restaurants are concentrated on which neighborhoods and whether there are neighborhoods that are lacking Turkish cuisine restaurants. Thus, we will be able to provide information on where to stay if they would prefer Turkish couisine. Additionally, the outcome would provide some information on where to invest to open a Turkish cuisine restaurant by outlining scarcity of such businesses. In this project, we will analyze, list and visualize major parts of New York City that has nice Turkish restaurants and provide insights on the findings."
   ]
  },
  {
   "cell_type": "markdown",
   "metadata": {},
   "source": [
    "### 1.3. Key objectives of analyzing the data set\n",
    "<ul>\n",
    "<li> On which neighborhoods are the best Turkish restaurants?\n",
    "<li> Which neighborhoods lack Turkish cuisine?\n",
    "<li> Where to stay to get close to Turkish restaurants?"
   ]
  },
  {
   "cell_type": "markdown",
   "metadata": {},
   "source": [
    "## 2. Data Acquisition and Cleaning\n",
    "\n",
    "### 2.1. Data sources\n",
    "\n",
    "We will use the following data for this project\n",
    "<ul>\n",
    "<li> Boroughs, Neighborhoods data of New York City as well as their latitudes and longitudes.\n",
    "    <ul>\n",
    "        <li>Source : https://cocl.us/new_york_dataset\n",
    "    </ul>\n",
    "<li> Turkish resturants in each neighborhood of NYC.\n",
    "     <ul>\n",
    "        <li>Source : Fousquare API\n",
    "     </ul>\n",
    "<li> GeoSpace data\n",
    "     <ul>\n",
    "        <li>Source : https://data.cityofnewyork.us/City-Government/Borough-Boundaries/tqmj-j8zm\n",
    "     </ul>"
   ]
  },
  {
   "cell_type": "markdown",
   "metadata": {},
   "source": [
    "### 2.2. Methodology\n",
    "<ul>\n",
    "<li> We will collect the New York City data from https://cocl.us/new_york_dataset\n",
    "<li> Using Foursquare API, we will list all venues for each neighborhood\n",
    "<li> We will filter out the venues that are Turkish restaurants\n",
    "<li> We will find the ratings, tips and like count for these restaurants using Foursquare API and sort by ratings\n",
    "<li> We will visualize the ranked neighborhoods using Folium"
   ]
  },
  {
   "cell_type": "markdown",
   "metadata": {},
   "source": [
    "### 2.2.1. Libraries that will be used\n",
    "<ul>\n",
    "<li> Pandas and Numpy for handling the data\n",
    "<li> Geopy to find coordinates of New York City\n",
    "<li> Request for using Foursquare API\n",
    "<li> Folium to visualize the results on the map"
   ]
  },
  {
   "cell_type": "code",
   "execution_count": null,
   "metadata": {
    "scrolled": true
   },
   "outputs": [
    {
     "name": "stdout",
     "output_type": "stream",
     "text": [
      "Collecting package metadata (current_repodata.json): ...working... done\n",
      "Solving environment: ...working... done\n",
      "\n",
      "# All requested packages already installed.\n",
      "\n",
      "Collecting package metadata (current_repodata.json): ...working... done\n",
      "Solving environment: ...working... done\n",
      "\n",
      "# All requested packages already installed.\n",
      "\n"
     ]
    }
   ],
   "source": [
    "!conda install -c conda-forge geopy --yes \n",
    "!conda install -c conda-forge folium=0.5.0 --yes\n",
    "!conda install -c anaconda beautifulsoup4 \n",
    "\n",
    "print('Geopy and Folium are downloaded')"
   ]
  },
  {
   "cell_type": "code",
   "execution_count": 2,
   "metadata": {},
   "outputs": [
    {
     "name": "stdout",
     "output_type": "stream",
     "text": [
      "All libraries are imported\n"
     ]
    }
   ],
   "source": [
    "import pandas as pd\n",
    "import numpy as np\n",
    "pd.set_option('display.max_columns', None)\n",
    "pd.set_option('display.max_rows', None)\n",
    "import requests\n",
    "from bs4 import BeautifulSoup\n",
    "from geopy.geocoders import Nominatim \n",
    "import os\n",
    "import folium \n",
    "import matplotlib.pyplot as plt\n",
    "import matplotlib.cm as cm\n",
    "import matplotlib.colors as colors\n",
    "%matplotlib inline\n",
    "\n",
    "print('All libraries are imported')"
   ]
  },
  {
   "cell_type": "markdown",
   "metadata": {},
   "source": [
    "#### Defining a function to get coordinates, ie, latitudes and longitudes of a given location"
   ]
  },
  {
   "cell_type": "code",
   "execution_count": 3,
   "metadata": {},
   "outputs": [],
   "source": [
    "def geo_location(address):\n",
    "    geolocator = Nominatim(user_agent=\"ege_ny_search\")\n",
    "    location = geolocator.geocode(address)\n",
    "    latitude = location.latitude\n",
    "    longitude = location.longitude\n",
    "    return latitude,longitude"
   ]
  },
  {
   "cell_type": "markdown",
   "metadata": {},
   "source": [
    "#### Defining a function to get New York City's neighborhoods & boroughs along with their latitudes and longitudes"
   ]
  },
  {
   "cell_type": "code",
   "execution_count": 4,
   "metadata": {},
   "outputs": [],
   "source": [
    "def get_nyc_data():\n",
    "    url='https://cocl.us/new_york_dataset'\n",
    "    resp=requests.get(url).json()\n",
    "    features=resp['features']\n",
    "    \n",
    "    # dataframe columns\n",
    "    column_names = ['Borough', 'Neighborhood', 'Latitude', 'Longitude'] \n",
    "    # define dataframe\n",
    "    nyc_data = pd.DataFrame(columns=column_names)\n",
    "    \n",
    "    for data in features:\n",
    "        borough = data['properties']['borough'] \n",
    "        neighborhood_name = data['properties']['name']\n",
    "        \n",
    "        neighborhood_latlon = data['geometry']['coordinates']\n",
    "        neighborhood_lat = neighborhood_latlon[1]\n",
    "        neighborhood_lon = neighborhood_latlon[0]\n",
    "    \n",
    "        nyc_data = nyc_data.append({'Borough': borough,\n",
    "                                  'Neighborhood': neighborhood_name,\n",
    "                                  'Latitude': neighborhood_lat,\n",
    "                                  'Longitude': neighborhood_lon}, ignore_index=True)\n",
    "    \n",
    "    return nyc_data"
   ]
  },
  {
   "cell_type": "markdown",
   "metadata": {},
   "source": [
    "#### Defining a function to get data from Foursquare API\n",
    "<ul>\n",
    "<li> Radius is set to 1000 meters\n",
    "<li> Number of venues is limited to 100\n",
    "</ul>\n",
    "This function will output venue id, name and category"
   ]
  },
  {
   "cell_type": "code",
   "execution_count": 5,
   "metadata": {},
   "outputs": [],
   "source": [
    "def get_venues(lat,lng):\n",
    "    \n",
    "    #variables are set to the limits defined above\n",
    "    radius=1000\n",
    "    LIMIT=100\n",
    "    CLIENT_ID = '####' # Foursquare ID removed for public GitHub post\n",
    "    CLIENT_SECRET = '####' # Foursquare Secret removed for public GitHub post\n",
    "    VERSION = '20180604' \n",
    "    \n",
    "    #Foursquare URL to retreive data\n",
    "    url = 'https://api.foursquare.com/v2/venues/explore?&client_id={}&client_secret={}&v={}&ll={},{}&radius={}&limit={}'.format(\n",
    "            CLIENT_ID, \n",
    "            CLIENT_SECRET, \n",
    "            VERSION, \n",
    "            lat, \n",
    "            lng, \n",
    "            radius, \n",
    "            LIMIT)\n",
    "    \n",
    "    # Retreiving the data\n",
    "    results = requests.get(url).json()\n",
    "    venue_data=results[\"response\"]['groups'][0]['items']\n",
    "    venue_details=[]\n",
    "    for row in venue_data:\n",
    "        try:\n",
    "            venue_id=row['venue']['id']\n",
    "            venue_name=row['venue']['name']\n",
    "            venue_category=row['venue']['categories'][0]['name']\n",
    "            venue_details.append([venue_id,venue_name,venue_category])\n",
    "        except KeyError:\n",
    "            pass\n",
    "        \n",
    "    column_names=['ID','Name','Category']\n",
    "    df = pd.DataFrame(venue_details,columns=column_names)\n",
    "    return df"
   ]
  },
  {
   "cell_type": "markdown",
   "metadata": {},
   "source": [
    "#### Defining a function to get venue details\n",
    "<ul>\n",
    "<li> Details like count, ranking, tip counts etc\n",
    "<li> This data will be used to rank venues\n",
    "</ul>"
   ]
  },
  {
   "cell_type": "code",
   "execution_count": 6,
   "metadata": {},
   "outputs": [],
   "source": [
    "def get_venue_details(venue_id):\n",
    "        \n",
    "    CLIENT_ID = '####' # Foursquare ID removed for public GitHub post\n",
    "    CLIENT_SECRET = '###' # Foursquare Secret removed for public GitHub post\n",
    "    VERSION = '20180604' \n",
    "    \n",
    "    #Foursquare URL to retreive data\n",
    "    url = 'https://api.foursquare.com/v2/venues/{}?&client_id={}&client_secret={}&v={}'.format(\n",
    "            venue_id,\n",
    "            CLIENT_ID, \n",
    "            CLIENT_SECRET, \n",
    "            VERSION)\n",
    "    \n",
    "    # Retreiving the data\n",
    "    results = requests.get(url).json()\n",
    "    venue_data=results['response']['venue']\n",
    "    venue_details=[]\n",
    "    try:\n",
    "        venue_id=venue_data['id']\n",
    "        venue_name=venue_data['name']\n",
    "        venue_likes=venue_data['likes']['count']\n",
    "        venue_rating=venue_data['rating']\n",
    "        venue_tips=venue_data['tips']['count']\n",
    "        venue_details.append([venue_id,venue_name,venue_likes,venue_rating,venue_tips])\n",
    "    except KeyError:\n",
    "        pass\n",
    "        \n",
    "    column_names=['ID','Name','Likes','Rating','Tips']\n",
    "    df = pd.DataFrame(venue_details,columns=column_names)\n",
    "    return df"
   ]
  },
  {
   "cell_type": "markdown",
   "metadata": {},
   "source": [
    "#### Let's get the New York City data now using get_nyc_data function"
   ]
  },
  {
   "cell_type": "code",
   "execution_count": 7,
   "metadata": {},
   "outputs": [],
   "source": [
    "nyc_data = get_nyc_data()"
   ]
  },
  {
   "cell_type": "markdown",
   "metadata": {},
   "source": [
    "#### Quick peek into the data:"
   ]
  },
  {
   "cell_type": "code",
   "execution_count": 8,
   "metadata": {},
   "outputs": [
    {
     "data": {
      "text/html": [
       "<div>\n",
       "<style scoped>\n",
       "    .dataframe tbody tr th:only-of-type {\n",
       "        vertical-align: middle;\n",
       "    }\n",
       "\n",
       "    .dataframe tbody tr th {\n",
       "        vertical-align: top;\n",
       "    }\n",
       "\n",
       "    .dataframe thead th {\n",
       "        text-align: right;\n",
       "    }\n",
       "</style>\n",
       "<table border=\"1\" class=\"dataframe\">\n",
       "  <thead>\n",
       "    <tr style=\"text-align: right;\">\n",
       "      <th></th>\n",
       "      <th>Borough</th>\n",
       "      <th>Neighborhood</th>\n",
       "      <th>Latitude</th>\n",
       "      <th>Longitude</th>\n",
       "    </tr>\n",
       "  </thead>\n",
       "  <tbody>\n",
       "    <tr>\n",
       "      <td>0</td>\n",
       "      <td>Bronx</td>\n",
       "      <td>Wakefield</td>\n",
       "      <td>40.894705</td>\n",
       "      <td>-73.847201</td>\n",
       "    </tr>\n",
       "    <tr>\n",
       "      <td>1</td>\n",
       "      <td>Bronx</td>\n",
       "      <td>Co-op City</td>\n",
       "      <td>40.874294</td>\n",
       "      <td>-73.829939</td>\n",
       "    </tr>\n",
       "    <tr>\n",
       "      <td>2</td>\n",
       "      <td>Bronx</td>\n",
       "      <td>Eastchester</td>\n",
       "      <td>40.887556</td>\n",
       "      <td>-73.827806</td>\n",
       "    </tr>\n",
       "    <tr>\n",
       "      <td>3</td>\n",
       "      <td>Bronx</td>\n",
       "      <td>Fieldston</td>\n",
       "      <td>40.895437</td>\n",
       "      <td>-73.905643</td>\n",
       "    </tr>\n",
       "    <tr>\n",
       "      <td>4</td>\n",
       "      <td>Bronx</td>\n",
       "      <td>Riverdale</td>\n",
       "      <td>40.890834</td>\n",
       "      <td>-73.912585</td>\n",
       "    </tr>\n",
       "  </tbody>\n",
       "</table>\n",
       "</div>"
      ],
      "text/plain": [
       "  Borough Neighborhood   Latitude  Longitude\n",
       "0   Bronx    Wakefield  40.894705 -73.847201\n",
       "1   Bronx   Co-op City  40.874294 -73.829939\n",
       "2   Bronx  Eastchester  40.887556 -73.827806\n",
       "3   Bronx    Fieldston  40.895437 -73.905643\n",
       "4   Bronx    Riverdale  40.890834 -73.912585"
      ]
     },
     "execution_count": 8,
     "metadata": {},
     "output_type": "execute_result"
    }
   ],
   "source": [
    "nyc_data.head()"
   ]
  },
  {
   "cell_type": "markdown",
   "metadata": {},
   "source": [
    "#### Let's see how many neighborhoods in New York City"
   ]
  },
  {
   "cell_type": "code",
   "execution_count": 9,
   "metadata": {},
   "outputs": [
    {
     "name": "stdout",
     "output_type": "stream",
     "text": [
      "There are 306 neighborhoods in NYC\n"
     ]
    }
   ],
   "source": [
    "print(\"There are {} neighborhoods in NYC\".format(nyc_data.shape[0]))"
   ]
  },
  {
   "cell_type": "markdown",
   "metadata": {},
   "source": [
    "#### Let's plot the data to see some details"
   ]
  },
  {
   "cell_type": "code",
   "execution_count": 76,
   "metadata": {},
   "outputs": [
    {
     "data": {
      "image/png": "[encoded data removed]",
      "text/plain": [
       "<Figure size 1000x600 with 1 Axes>"
      ]
     },
     "metadata": {
      "needs_background": "light"
     },
     "output_type": "display_data"
    }
   ],
   "source": [
    "plt.figure(figsize=(10,6), dpi = 100)\n",
    "plt.title('Neighborhoods in New York City')\n",
    "plt.xlabel('Borough', fontsize = 10)\n",
    "plt.ylabel('Number of Neighborhoods', fontsize=10)\n",
    "nyc_data.groupby('Borough')['Neighborhood'].nunique().plot(kind='bar', color='lightsteelblue', align='center', width=0.7)\n",
    "plt.legend()\n",
    "plt.show()"
   ]
  },
  {
   "cell_type": "markdown",
   "metadata": {},
   "source": [
    "#### Next step is to retreive Turkish restaurants for each neighborhood"
   ]
  },
  {
   "cell_type": "code",
   "execution_count": 72,
   "metadata": {
    "scrolled": true
   },
   "outputs": [
    {
     "name": "stdout",
     "output_type": "stream",
     "text": [
      "( 1 / 306 ) Turkish Resturants in Wakefield, Bronx:0\n",
      "( 2 / 306 ) Turkish Resturants in Co-op City, Bronx:0\n",
      "( 3 / 306 ) Turkish Resturants in Eastchester, Bronx:0\n",
      "( 4 / 306 ) Turkish Resturants in Fieldston, Bronx:0\n",
      "( 5 / 306 ) Turkish Resturants in Riverdale, Bronx:0\n",
      "( 6 / 306 ) Turkish Resturants in Kingsbridge, Bronx:0\n",
      "( 7 / 306 ) Turkish Resturants in Marble Hill, Manhattan:0\n",
      "( 8 / 306 ) Turkish Resturants in Woodlawn, Bronx:0\n",
      "( 9 / 306 ) Turkish Resturants in Norwood, Bronx:0\n",
      "( 10 / 306 ) Turkish Resturants in Williamsbridge, Bronx:0\n",
      "( 11 / 306 ) Turkish Resturants in Baychester, Bronx:0\n",
      "( 12 / 306 ) Turkish Resturants in Pelham Parkway, Bronx:0\n",
      "( 13 / 306 ) Turkish Resturants in City Island, Bronx:0\n",
      "( 14 / 306 ) Turkish Resturants in Bedford Park, Bronx:0\n",
      "( 15 / 306 ) Turkish Resturants in University Heights, Bronx:0\n",
      "( 16 / 306 ) Turkish Resturants in Morris Heights, Bronx:0\n",
      "( 17 / 306 ) Turkish Resturants in Fordham, Bronx:0\n",
      "( 18 / 306 ) Turkish Resturants in East Tremont, Bronx:0\n",
      "( 19 / 306 ) Turkish Resturants in West Farms, Bronx:0\n",
      "( 20 / 306 ) Turkish Resturants in High  Bridge, Bronx:0\n",
      "( 21 / 306 ) Turkish Resturants in Melrose, Bronx:0\n",
      "( 22 / 306 ) Turkish Resturants in Mott Haven, Bronx:0\n",
      "( 23 / 306 ) Turkish Resturants in Port Morris, Bronx:0\n",
      "( 24 / 306 ) Turkish Resturants in Longwood, Bronx:0\n",
      "( 25 / 306 ) Turkish Resturants in Hunts Point, Bronx:0\n",
      "( 26 / 306 ) Turkish Resturants in Morrisania, Bronx:0\n",
      "( 27 / 306 ) Turkish Resturants in Soundview, Bronx:0\n",
      "( 28 / 306 ) Turkish Resturants in Clason Point, Bronx:0\n",
      "( 29 / 306 ) Turkish Resturants in Throgs Neck, Bronx:0\n",
      "( 30 / 306 ) Turkish Resturants in Country Club, Bronx:0\n",
      "( 31 / 306 ) Turkish Resturants in Parkchester, Bronx:0\n",
      "( 32 / 306 ) Turkish Resturants in Westchester Square, Bronx:0\n",
      "( 33 / 306 ) Turkish Resturants in Van Nest, Bronx:0\n",
      "( 34 / 306 ) Turkish Resturants in Morris Park, Bronx:0\n",
      "( 35 / 306 ) Turkish Resturants in Belmont, Bronx:0\n",
      "( 36 / 306 ) Turkish Resturants in Spuyten Duyvil, Bronx:0\n",
      "( 37 / 306 ) Turkish Resturants in North Riverdale, Bronx:0\n",
      "( 38 / 306 ) Turkish Resturants in Pelham Bay, Bronx:0\n",
      "( 39 / 306 ) Turkish Resturants in Schuylerville, Bronx:0\n",
      "( 40 / 306 ) Turkish Resturants in Edgewater Park, Bronx:0\n",
      "( 41 / 306 ) Turkish Resturants in Castle Hill, Bronx:0\n",
      "( 42 / 306 ) Turkish Resturants in Olinville, Bronx:0\n",
      "( 43 / 306 ) Turkish Resturants in Pelham Gardens, Bronx:0\n",
      "( 44 / 306 ) Turkish Resturants in Concourse, Bronx:0\n",
      "( 45 / 306 ) Turkish Resturants in Unionport, Bronx:0\n",
      "( 46 / 306 ) Turkish Resturants in Edenwald, Bronx:0\n",
      "( 47 / 306 ) Turkish Resturants in Bay Ridge, Brooklyn:1\n",
      "( 48 / 306 ) Turkish Resturants in Bensonhurst, Brooklyn:0\n",
      "( 49 / 306 ) Turkish Resturants in Sunset Park, Brooklyn:0\n",
      "( 50 / 306 ) Turkish Resturants in Greenpoint, Brooklyn:0\n",
      "( 51 / 306 ) Turkish Resturants in Gravesend, Brooklyn:1\n",
      "( 52 / 306 ) Turkish Resturants in Brighton Beach, Brooklyn:0\n",
      "( 53 / 306 ) Turkish Resturants in Sheepshead Bay, Brooklyn:4\n",
      "( 54 / 306 ) Turkish Resturants in Manhattan Terrace, Brooklyn:1\n",
      "( 55 / 306 ) Turkish Resturants in Flatbush, Brooklyn:0\n",
      "( 56 / 306 ) Turkish Resturants in Crown Heights, Brooklyn:0\n",
      "( 57 / 306 ) Turkish Resturants in East Flatbush, Brooklyn:0\n",
      "( 58 / 306 ) Turkish Resturants in Kensington, Brooklyn:0\n",
      "( 59 / 306 ) Turkish Resturants in Windsor Terrace, Brooklyn:0\n",
      "( 60 / 306 ) Turkish Resturants in Prospect Heights, Brooklyn:0\n",
      "( 61 / 306 ) Turkish Resturants in Brownsville, Brooklyn:0\n",
      "( 62 / 306 ) Turkish Resturants in Williamsburg, Brooklyn:0\n",
      "( 63 / 306 ) Turkish Resturants in Bushwick, Brooklyn:0\n",
      "( 64 / 306 ) Turkish Resturants in Bedford Stuyvesant, Brooklyn:0\n",
      "( 65 / 306 ) Turkish Resturants in Brooklyn Heights, Brooklyn:0\n",
      "( 66 / 306 ) Turkish Resturants in Cobble Hill, Brooklyn:0\n",
      "( 67 / 306 ) Turkish Resturants in Carroll Gardens, Brooklyn:0\n",
      "( 68 / 306 ) Turkish Resturants in Red Hook, Brooklyn:0\n",
      "( 69 / 306 ) Turkish Resturants in Gowanus, Brooklyn:0\n",
      "( 70 / 306 ) Turkish Resturants in Fort Greene, Brooklyn:0\n",
      "( 71 / 306 ) Turkish Resturants in Park Slope, Brooklyn:0\n",
      "( 72 / 306 ) Turkish Resturants in Cypress Hills, Brooklyn:0\n",
      "( 73 / 306 ) Turkish Resturants in East New York, Brooklyn:0\n",
      "( 74 / 306 ) Turkish Resturants in Starrett City, Brooklyn:0\n",
      "( 75 / 306 ) Turkish Resturants in Canarsie, Brooklyn:0\n",
      "( 76 / 306 ) Turkish Resturants in Flatlands, Brooklyn:0\n",
      "( 77 / 306 ) Turkish Resturants in Mill Island, Brooklyn:0\n",
      "( 78 / 306 ) Turkish Resturants in Manhattan Beach, Brooklyn:4\n",
      "( 79 / 306 ) Turkish Resturants in Coney Island, Brooklyn:0\n",
      "( 80 / 306 ) Turkish Resturants in Bath Beach, Brooklyn:1\n",
      "( 81 / 306 ) Turkish Resturants in Borough Park, Brooklyn:0\n",
      "( 82 / 306 ) Turkish Resturants in Dyker Heights, Brooklyn:1\n",
      "( 83 / 306 ) Turkish Resturants in Gerritsen Beach, Brooklyn:0\n",
      "( 84 / 306 ) Turkish Resturants in Marine Park, Brooklyn:0\n",
      "( 85 / 306 ) Turkish Resturants in Clinton Hill, Brooklyn:0\n",
      "( 86 / 306 ) Turkish Resturants in Sea Gate, Brooklyn:0\n",
      "( 87 / 306 ) Turkish Resturants in Downtown, Brooklyn:0\n",
      "( 88 / 306 ) Turkish Resturants in Boerum Hill, Brooklyn:0\n",
      "( 89 / 306 ) Turkish Resturants in Prospect Lefferts Gardens, Brooklyn:0\n",
      "( 90 / 306 ) Turkish Resturants in Ocean Hill, Brooklyn:0\n",
      "( 91 / 306 ) Turkish Resturants in City Line, Brooklyn:0\n",
      "( 92 / 306 ) Turkish Resturants in Bergen Beach, Brooklyn:0\n",
      "( 93 / 306 ) Turkish Resturants in Midwood, Brooklyn:0\n",
      "( 94 / 306 ) Turkish Resturants in Prospect Park South, Brooklyn:0\n",
      "( 95 / 306 ) Turkish Resturants in Georgetown, Brooklyn:0\n",
      "( 96 / 306 ) Turkish Resturants in East Williamsburg, Brooklyn:0\n",
      "( 97 / 306 ) Turkish Resturants in North Side, Brooklyn:0\n",
      "( 98 / 306 ) Turkish Resturants in South Side, Brooklyn:0\n",
      "( 99 / 306 ) Turkish Resturants in Ocean Parkway, Brooklyn:1\n",
      "( 100 / 306 ) Turkish Resturants in Fort Hamilton, Brooklyn:0\n",
      "( 101 / 306 ) Turkish Resturants in Chinatown, Manhattan:0\n",
      "( 102 / 306 ) Turkish Resturants in Washington Heights, Manhattan:0\n",
      "( 103 / 306 ) Turkish Resturants in Inwood, Manhattan:0\n",
      "( 104 / 306 ) Turkish Resturants in Hamilton Heights, Manhattan:0\n",
      "( 105 / 306 ) Turkish Resturants in Manhattanville, Manhattan:0\n",
      "( 106 / 306 ) Turkish Resturants in Central Harlem, Manhattan:0\n",
      "( 107 / 306 ) Turkish Resturants in East Harlem, Manhattan:0\n",
      "( 108 / 306 ) Turkish Resturants in Upper East Side, Manhattan:1\n",
      "( 109 / 306 ) Turkish Resturants in Yorkville, Manhattan:0\n",
      "( 110 / 306 ) Turkish Resturants in Lenox Hill, Manhattan:0\n",
      "( 111 / 306 ) Turkish Resturants in Roosevelt Island, Manhattan:0\n",
      "( 112 / 306 ) Turkish Resturants in Upper West Side, Manhattan:1\n",
      "( 113 / 306 ) Turkish Resturants in Lincoln Square, Manhattan:0\n",
      "( 114 / 306 ) Turkish Resturants in Clinton, Manhattan:0\n",
      "( 115 / 306 ) Turkish Resturants in Midtown, Manhattan:0\n",
      "( 116 / 306 ) Turkish Resturants in Murray Hill, Manhattan:0\n",
      "( 117 / 306 ) Turkish Resturants in Chelsea, Manhattan:0\n",
      "( 118 / 306 ) Turkish Resturants in Greenwich Village, Manhattan:0\n",
      "( 119 / 306 ) Turkish Resturants in East Village, Manhattan:0\n",
      "( 120 / 306 ) Turkish Resturants in Lower East Side, Manhattan:0\n",
      "( 121 / 306 ) Turkish Resturants in Tribeca, Manhattan:0\n",
      "( 122 / 306 ) Turkish Resturants in Little Italy, Manhattan:0\n",
      "( 123 / 306 ) Turkish Resturants in Soho, Manhattan:0\n",
      "( 124 / 306 ) Turkish Resturants in West Village, Manhattan:0\n",
      "( 125 / 306 ) Turkish Resturants in Manhattan Valley, Manhattan:0\n",
      "( 126 / 306 ) Turkish Resturants in Morningside Heights, Manhattan:0\n",
      "( 127 / 306 ) Turkish Resturants in Gramercy, Manhattan:0\n",
      "( 128 / 306 ) Turkish Resturants in Battery Park City, Manhattan:0\n",
      "( 129 / 306 ) Turkish Resturants in Financial District, Manhattan:0\n",
      "( 130 / 306 ) Turkish Resturants in Astoria, Queens:0\n",
      "( 131 / 306 ) Turkish Resturants in Woodside, Queens:0\n",
      "( 132 / 306 ) Turkish Resturants in Jackson Heights, Queens:0\n",
      "( 133 / 306 ) Turkish Resturants in Elmhurst, Queens:0\n",
      "( 134 / 306 ) Turkish Resturants in Howard Beach, Queens:0\n",
      "( 135 / 306 ) Turkish Resturants in Corona, Queens:0\n",
      "( 136 / 306 ) Turkish Resturants in Forest Hills, Queens:0\n",
      "( 137 / 306 ) Turkish Resturants in Kew Gardens, Queens:0\n",
      "( 138 / 306 ) Turkish Resturants in Richmond Hill, Queens:0\n",
      "( 139 / 306 ) Turkish Resturants in Flushing, Queens:0\n",
      "( 140 / 306 ) Turkish Resturants in Long Island City, Queens:0\n",
      "( 141 / 306 ) Turkish Resturants in Sunnyside, Queens:3\n",
      "( 142 / 306 ) Turkish Resturants in East Elmhurst, Queens:0\n",
      "( 143 / 306 ) Turkish Resturants in Maspeth, Queens:0\n",
      "( 144 / 306 ) Turkish Resturants in Ridgewood, Queens:0\n",
      "( 145 / 306 ) Turkish Resturants in Glendale, Queens:0\n",
      "( 146 / 306 ) Turkish Resturants in Rego Park, Queens:0\n",
      "( 147 / 306 ) Turkish Resturants in Woodhaven, Queens:0\n",
      "( 148 / 306 ) Turkish Resturants in Ozone Park, Queens:0\n",
      "( 149 / 306 ) Turkish Resturants in South Ozone Park, Queens:0\n",
      "( 150 / 306 ) Turkish Resturants in College Point, Queens:0\n",
      "( 151 / 306 ) Turkish Resturants in Whitestone, Queens:0\n",
      "( 152 / 306 ) Turkish Resturants in Bayside, Queens:0\n",
      "( 153 / 306 ) Turkish Resturants in Auburndale, Queens:0\n",
      "( 154 / 306 ) Turkish Resturants in Little Neck, Queens:0\n",
      "( 155 / 306 ) Turkish Resturants in Douglaston, Queens:0\n",
      "( 156 / 306 ) Turkish Resturants in Glen Oaks, Queens:0\n",
      "( 157 / 306 ) Turkish Resturants in Bellerose, Queens:0\n",
      "( 158 / 306 ) Turkish Resturants in Kew Gardens Hills, Queens:0\n",
      "( 159 / 306 ) Turkish Resturants in Fresh Meadows, Queens:0\n",
      "( 160 / 306 ) Turkish Resturants in Briarwood, Queens:0\n",
      "( 161 / 306 ) Turkish Resturants in Jamaica Center, Queens:0\n",
      "( 162 / 306 ) Turkish Resturants in Oakland Gardens, Queens:0\n",
      "( 163 / 306 ) Turkish Resturants in Queens Village, Queens:0\n",
      "( 164 / 306 ) Turkish Resturants in Hollis, Queens:0\n",
      "( 165 / 306 ) Turkish Resturants in South Jamaica, Queens:0\n",
      "( 166 / 306 ) Turkish Resturants in St. Albans, Queens:0\n",
      "( 167 / 306 ) Turkish Resturants in Rochdale, Queens:0\n",
      "( 168 / 306 ) Turkish Resturants in Springfield Gardens, Queens:0\n",
      "( 169 / 306 ) Turkish Resturants in Cambria Heights, Queens:0\n",
      "( 170 / 306 ) Turkish Resturants in Rosedale, Queens:0\n",
      "( 171 / 306 ) Turkish Resturants in Far Rockaway, Queens:0\n",
      "( 172 / 306 ) Turkish Resturants in Broad Channel, Queens:0\n",
      "( 173 / 306 ) Turkish Resturants in Breezy Point, Queens:0\n",
      "( 174 / 306 ) Turkish Resturants in Steinway, Queens:1\n",
      "( 175 / 306 ) Turkish Resturants in Beechhurst, Queens:0\n",
      "( 176 / 306 ) Turkish Resturants in Bay Terrace, Queens:0\n",
      "( 177 / 306 ) Turkish Resturants in Edgemere, Queens:0\n",
      "( 178 / 306 ) Turkish Resturants in Arverne, Queens:0\n",
      "( 179 / 306 ) Turkish Resturants in Rockaway Beach, Queens:0\n",
      "( 180 / 306 ) Turkish Resturants in Neponsit, Queens:0\n",
      "( 181 / 306 ) Turkish Resturants in Murray Hill, Queens:0\n",
      "( 182 / 306 ) Turkish Resturants in Floral Park, Queens:0\n",
      "( 183 / 306 ) Turkish Resturants in Holliswood, Queens:0\n",
      "( 184 / 306 ) Turkish Resturants in Jamaica Estates, Queens:0\n",
      "( 185 / 306 ) Turkish Resturants in Queensboro Hill, Queens:0\n",
      "( 186 / 306 ) Turkish Resturants in Hillcrest, Queens:0\n",
      "( 187 / 306 ) Turkish Resturants in Ravenswood, Queens:1\n",
      "( 188 / 306 ) Turkish Resturants in Lindenwood, Queens:0\n",
      "( 189 / 306 ) Turkish Resturants in Laurelton, Queens:0\n",
      "( 190 / 306 ) Turkish Resturants in Lefrak City, Queens:0\n",
      "( 191 / 306 ) Turkish Resturants in Belle Harbor, Queens:0\n",
      "( 192 / 306 ) Turkish Resturants in Rockaway Park, Queens:0\n",
      "( 193 / 306 ) Turkish Resturants in Somerville, Queens:0\n",
      "( 194 / 306 ) Turkish Resturants in Brookville, Queens:0\n",
      "( 195 / 306 ) Turkish Resturants in Bellaire, Queens:0\n",
      "( 196 / 306 ) Turkish Resturants in North Corona, Queens:0\n",
      "( 197 / 306 ) Turkish Resturants in Forest Hills Gardens, Queens:1\n",
      "( 198 / 306 ) Turkish Resturants in St. George, Staten Island:0\n",
      "( 199 / 306 ) Turkish Resturants in New Brighton, Staten Island:0\n",
      "( 200 / 306 ) Turkish Resturants in Stapleton, Staten Island:0\n",
      "( 201 / 306 ) Turkish Resturants in Rosebank, Staten Island:0\n",
      "( 202 / 306 ) Turkish Resturants in West Brighton, Staten Island:0\n",
      "( 203 / 306 ) Turkish Resturants in Grymes Hill, Staten Island:0\n",
      "( 204 / 306 ) Turkish Resturants in Todt Hill, Staten Island:0\n",
      "( 205 / 306 ) Turkish Resturants in South Beach, Staten Island:0\n",
      "( 206 / 306 ) Turkish Resturants in Port Richmond, Staten Island:0\n",
      "( 207 / 306 ) Turkish Resturants in Mariner's Harbor, Staten Island:0\n",
      "( 208 / 306 ) Turkish Resturants in Port Ivory, Staten Island:0\n",
      "( 209 / 306 ) Turkish Resturants in Castleton Corners, Staten Island:0\n",
      "( 210 / 306 ) Turkish Resturants in New Springville, Staten Island:0\n",
      "( 211 / 306 ) Turkish Resturants in Travis, Staten Island:0\n",
      "( 212 / 306 ) Turkish Resturants in New Dorp, Staten Island:0\n",
      "( 213 / 306 ) Turkish Resturants in Oakwood, Staten Island:0\n",
      "( 214 / 306 ) Turkish Resturants in Great Kills, Staten Island:0\n",
      "( 215 / 306 ) Turkish Resturants in Eltingville, Staten Island:0\n",
      "( 216 / 306 ) Turkish Resturants in Annadale, Staten Island:0\n",
      "( 217 / 306 ) Turkish Resturants in Woodrow, Staten Island:0\n",
      "( 218 / 306 ) Turkish Resturants in Tottenville, Staten Island:0\n",
      "( 219 / 306 ) Turkish Resturants in Tompkinsville, Staten Island:0\n",
      "( 220 / 306 ) Turkish Resturants in Silver Lake, Staten Island:0\n",
      "( 221 / 306 ) Turkish Resturants in Sunnyside, Staten Island:0\n",
      "( 222 / 306 ) Turkish Resturants in Ditmas Park, Brooklyn:0\n",
      "( 223 / 306 ) Turkish Resturants in Wingate, Brooklyn:0\n",
      "( 224 / 306 ) Turkish Resturants in Rugby, Brooklyn:0\n",
      "( 225 / 306 ) Turkish Resturants in Park Hill, Staten Island:0\n",
      "( 226 / 306 ) Turkish Resturants in Westerleigh, Staten Island:0\n",
      "( 227 / 306 ) Turkish Resturants in Graniteville, Staten Island:0\n",
      "( 228 / 306 ) Turkish Resturants in Arlington, Staten Island:0\n",
      "( 229 / 306 ) Turkish Resturants in Arrochar, Staten Island:0\n",
      "( 230 / 306 ) Turkish Resturants in Grasmere, Staten Island:0\n",
      "( 231 / 306 ) Turkish Resturants in Old Town, Staten Island:0\n",
      "( 232 / 306 ) Turkish Resturants in Dongan Hills, Staten Island:1\n",
      "( 233 / 306 ) Turkish Resturants in Midland Beach, Staten Island:0\n",
      "( 234 / 306 ) Turkish Resturants in Grant City, Staten Island:0\n",
      "( 235 / 306 ) Turkish Resturants in New Dorp Beach, Staten Island:0\n",
      "( 236 / 306 ) Turkish Resturants in Bay Terrace, Staten Island:0\n",
      "( 237 / 306 ) Turkish Resturants in Huguenot, Staten Island:0\n",
      "( 238 / 306 ) Turkish Resturants in Pleasant Plains, Staten Island:0\n",
      "( 239 / 306 ) Turkish Resturants in Butler Manor, Staten Island:0\n",
      "( 240 / 306 ) Turkish Resturants in Charleston, Staten Island:0\n",
      "( 241 / 306 ) Turkish Resturants in Rossville, Staten Island:0\n",
      "( 242 / 306 ) Turkish Resturants in Arden Heights, Staten Island:0\n",
      "( 243 / 306 ) Turkish Resturants in Greenridge, Staten Island:0\n",
      "( 244 / 306 ) Turkish Resturants in Heartland Village, Staten Island:0\n",
      "( 245 / 306 ) Turkish Resturants in Chelsea, Staten Island:0\n",
      "( 246 / 306 ) Turkish Resturants in Bloomfield, Staten Island:0\n",
      "( 247 / 306 ) Turkish Resturants in Bulls Head, Staten Island:0\n",
      "( 248 / 306 ) Turkish Resturants in Carnegie Hill, Manhattan:0\n",
      "( 249 / 306 ) Turkish Resturants in Noho, Manhattan:0\n",
      "( 250 / 306 ) Turkish Resturants in Civic Center, Manhattan:0\n",
      "( 251 / 306 ) Turkish Resturants in Midtown South, Manhattan:0\n",
      "( 252 / 306 ) Turkish Resturants in Richmond Town, Staten Island:0\n",
      "( 253 / 306 ) Turkish Resturants in Shore Acres, Staten Island:0\n",
      "( 254 / 306 ) Turkish Resturants in Clifton, Staten Island:0\n",
      "( 255 / 306 ) Turkish Resturants in Concord, Staten Island:0\n",
      "( 256 / 306 ) Turkish Resturants in Emerson Hill, Staten Island:0\n",
      "( 257 / 306 ) Turkish Resturants in Randall Manor, Staten Island:0\n",
      "( 258 / 306 ) Turkish Resturants in Howland Hook, Staten Island:0\n",
      "( 259 / 306 ) Turkish Resturants in Elm Park, Staten Island:0\n",
      "( 260 / 306 ) Turkish Resturants in Remsen Village, Brooklyn:0\n",
      "( 261 / 306 ) Turkish Resturants in New Lots, Brooklyn:0\n",
      "( 262 / 306 ) Turkish Resturants in Paerdegat Basin, Brooklyn:0\n",
      "( 263 / 306 ) Turkish Resturants in Mill Basin, Brooklyn:0\n",
      "( 264 / 306 ) Turkish Resturants in Jamaica Hills, Queens:0\n",
      "( 265 / 306 ) Turkish Resturants in Utopia, Queens:0\n",
      "( 266 / 306 ) Turkish Resturants in Pomonok, Queens:0\n",
      "( 267 / 306 ) Turkish Resturants in Astoria Heights, Queens:0\n",
      "( 268 / 306 ) Turkish Resturants in Claremont Village, Bronx:0\n",
      "( 269 / 306 ) Turkish Resturants in Concourse Village, Bronx:0\n",
      "( 270 / 306 ) Turkish Resturants in Mount Eden, Bronx:0\n",
      "( 271 / 306 ) Turkish Resturants in Mount Hope, Bronx:0\n",
      "( 272 / 306 ) Turkish Resturants in Sutton Place, Manhattan:0\n",
      "( 273 / 306 ) Turkish Resturants in Hunters Point, Queens:0\n",
      "( 274 / 306 ) Turkish Resturants in Turtle Bay, Manhattan:1\n",
      "( 275 / 306 ) Turkish Resturants in Tudor City, Manhattan:0\n",
      "( 276 / 306 ) Turkish Resturants in Stuyvesant Town, Manhattan:0\n",
      "( 277 / 306 ) Turkish Resturants in Flatiron, Manhattan:0\n",
      "( 278 / 306 ) Turkish Resturants in Sunnyside Gardens, Queens:3\n",
      "( 279 / 306 ) Turkish Resturants in Blissville, Queens:0\n",
      "( 280 / 306 ) Turkish Resturants in Fulton Ferry, Brooklyn:0\n",
      "( 281 / 306 ) Turkish Resturants in Vinegar Hill, Brooklyn:0\n",
      "( 282 / 306 ) Turkish Resturants in Weeksville, Brooklyn:0\n",
      "( 283 / 306 ) Turkish Resturants in Broadway Junction, Brooklyn:0\n",
      "( 284 / 306 ) Turkish Resturants in Dumbo, Brooklyn:0\n",
      "( 285 / 306 ) Turkish Resturants in Manor Heights, Staten Island:0\n",
      "( 286 / 306 ) Turkish Resturants in Willowbrook, Staten Island:0\n",
      "( 287 / 306 ) Turkish Resturants in Sandy Ground, Staten Island:0\n",
      "( 288 / 306 ) Turkish Resturants in Egbertville, Staten Island:0\n",
      "( 289 / 306 ) Turkish Resturants in Roxbury, Queens:0\n",
      "( 290 / 306 ) Turkish Resturants in Homecrest, Brooklyn:0\n",
      "( 291 / 306 ) Turkish Resturants in Middle Village, Queens:0\n",
      "( 292 / 306 ) Turkish Resturants in Prince's Bay, Staten Island:0\n",
      "( 293 / 306 ) Turkish Resturants in Lighthouse Hill, Staten Island:0\n",
      "( 294 / 306 ) Turkish Resturants in Richmond Valley, Staten Island:0\n",
      "( 295 / 306 ) Turkish Resturants in Malba, Queens:0\n",
      "( 296 / 306 ) Turkish Resturants in Highland Park, Brooklyn:0\n",
      "( 297 / 306 ) Turkish Resturants in Madison, Brooklyn:0\n",
      "( 298 / 306 ) Turkish Resturants in Bronxdale, Bronx:0\n",
      "( 299 / 306 ) Turkish Resturants in Allerton, Bronx:0\n",
      "( 300 / 306 ) Turkish Resturants in Kingsbridge Heights, Bronx:0\n",
      "( 301 / 306 ) Turkish Resturants in Erasmus, Brooklyn:0\n",
      "( 302 / 306 ) Turkish Resturants in Hudson Yards, Manhattan:0\n",
      "( 303 / 306 ) Turkish Resturants in Hammels, Queens:0\n",
      "( 304 / 306 ) Turkish Resturants in Bayswater, Queens:0\n",
      "( 305 / 306 ) Turkish Resturants in Queensbridge, Queens:0\n",
      "( 306 / 306 ) Turkish Resturants in Fox Hills, Staten Island:0\n"
     ]
    }
   ],
   "source": [
    "col_names=['Borough', 'Neighborhood', 'ID','Name']\n",
    "turkish_rest_nyc=pd.DataFrame(columns=col_names)\n",
    "count=1\n",
    "for row in nyc_data.values.tolist():\n",
    "    Borough, Neighborhood, Latitude, Longitude = row\n",
    "    venues = get_venues(Latitude,Longitude)\n",
    "    turkish_resturants=venues[venues['Category']=='Turkish Restaurant']   \n",
    "    print('(',count,'/',len(nyc_data),')',\n",
    "          'Turkish Resturants in '+Neighborhood+', '+Borough+':'+str(len(turkish_resturants)))\n",
    "    for resturant_detail in turkish_resturants.values.tolist():\n",
    "        id, name , category=resturant_detail\n",
    "        turkish_rest_nyc = turkish_rest_nyc.append({'Borough': Borough,\n",
    "                                                'Neighborhood': Neighborhood, \n",
    "                                                'ID': id,\n",
    "                                                'Name' : name\n",
    "                                               }, ignore_index=True)\n",
    "    count+=1"
   ]
  },
  {
   "cell_type": "markdown",
   "metadata": {},
   "source": [
    "#### Let's take a look at the Turkish restaurants dataframe:"
   ]
  },
  {
   "cell_type": "code",
   "execution_count": 73,
   "metadata": {},
   "outputs": [
    {
     "data": {
      "text/html": [
       "<div>\n",
       "<style scoped>\n",
       "    .dataframe tbody tr th:only-of-type {\n",
       "        vertical-align: middle;\n",
       "    }\n",
       "\n",
       "    .dataframe tbody tr th {\n",
       "        vertical-align: top;\n",
       "    }\n",
       "\n",
       "    .dataframe thead th {\n",
       "        text-align: right;\n",
       "    }\n",
       "</style>\n",
       "<table border=\"1\" class=\"dataframe\">\n",
       "  <thead>\n",
       "    <tr style=\"text-align: right;\">\n",
       "      <th></th>\n",
       "      <th>Borough</th>\n",
       "      <th>Neighborhood</th>\n",
       "      <th>ID</th>\n",
       "      <th>Name</th>\n",
       "    </tr>\n",
       "  </thead>\n",
       "  <tbody>\n",
       "    <tr>\n",
       "      <td>0</td>\n",
       "      <td>Brooklyn</td>\n",
       "      <td>Bay Ridge</td>\n",
       "      <td>579d3e7c498effa33c0450af</td>\n",
       "      <td>Istanbul Bay</td>\n",
       "    </tr>\n",
       "    <tr>\n",
       "      <td>1</td>\n",
       "      <td>Brooklyn</td>\n",
       "      <td>Gravesend</td>\n",
       "      <td>51a2a2a3498e0d5d337f137b</td>\n",
       "      <td>Wood Spoon</td>\n",
       "    </tr>\n",
       "    <tr>\n",
       "      <td>2</td>\n",
       "      <td>Brooklyn</td>\n",
       "      <td>Sheepshead Bay</td>\n",
       "      <td>4fcbfc92e4b088c92e7e97ad</td>\n",
       "      <td>Opera Cafe Lounge</td>\n",
       "    </tr>\n",
       "    <tr>\n",
       "      <td>3</td>\n",
       "      <td>Brooklyn</td>\n",
       "      <td>Sheepshead Bay</td>\n",
       "      <td>4b1d5405f964a520d70e24e3</td>\n",
       "      <td>Liman Restaurant</td>\n",
       "    </tr>\n",
       "    <tr>\n",
       "      <td>4</td>\n",
       "      <td>Brooklyn</td>\n",
       "      <td>Sheepshead Bay</td>\n",
       "      <td>53800e9c498e1b7adfbaaf5d</td>\n",
       "      <td>Rocca Cafe &amp; Lounge</td>\n",
       "    </tr>\n",
       "  </tbody>\n",
       "</table>\n",
       "</div>"
      ],
      "text/plain": [
       "    Borough    Neighborhood                        ID                 Name\n",
       "0  Brooklyn       Bay Ridge  579d3e7c498effa33c0450af         Istanbul Bay\n",
       "1  Brooklyn       Gravesend  51a2a2a3498e0d5d337f137b           Wood Spoon\n",
       "2  Brooklyn  Sheepshead Bay  4fcbfc92e4b088c92e7e97ad    Opera Cafe Lounge\n",
       "3  Brooklyn  Sheepshead Bay  4b1d5405f964a520d70e24e3     Liman Restaurant\n",
       "4  Brooklyn  Sheepshead Bay  53800e9c498e1b7adfbaaf5d  Rocca Cafe & Lounge"
      ]
     },
     "execution_count": 73,
     "metadata": {},
     "output_type": "execute_result"
    }
   ],
   "source": [
    "turkish_rest_nyc.head()"
   ]
  },
  {
   "cell_type": "code",
   "execution_count": 74,
   "metadata": {},
   "outputs": [
    {
     "data": {
      "text/plain": [
       "(27, 4)"
      ]
     },
     "execution_count": 74,
     "metadata": {},
     "output_type": "execute_result"
    }
   ],
   "source": [
    "turkish_rest_nyc.shape"
   ]
  },
  {
   "cell_type": "markdown",
   "metadata": {},
   "source": [
    "<i>Looks like there are only 27 Turkish restaurants in New York City. </i>\n"
   ]
  },
  {
   "cell_type": "markdown",
   "metadata": {},
   "source": [
    "#### Now let's take a look on how many Turkish restaurants are there in each borough"
   ]
  },
  {
   "cell_type": "code",
   "execution_count": 58,
   "metadata": {},
   "outputs": [
    {
     "data": {
      "image/png": "[encoded data removed]",
      "text/plain": [
       "<Figure size 1000x600 with 1 Axes>"
      ]
     },
     "metadata": {
      "needs_background": "light"
     },
     "output_type": "display_data"
    }
   ],
   "source": [
    "plt.figure(figsize=(10,6), dpi = 100)\n",
    "plt.title('Number of Turkish Resturants for each Borough in New York City')\n",
    "plt.xlabel('Borough', fontsize = 10)\n",
    "plt.ylabel('Number of Turkish Resturants', fontsize=10)\n",
    "turkish_rest_nyc.groupby('Borough')['ID'].nunique().plot(kind='bar', color='lightsteelblue', align='center', width=0.7)\n",
    "plt.show()"
   ]
  },
  {
   "cell_type": "markdown",
   "metadata": {},
   "source": [
    "<i>Brooklyn has the most with 8 out of 27 Turkish restaurants in NYC</i>\n",
    "#### Now let's take a look on how many Turkish restaurants are there in each neighborhood"
   ]
  },
  {
   "cell_type": "code",
   "execution_count": 77,
   "metadata": {},
   "outputs": [
    {
     "data": {
      "image/png": "[encoded data removed]",
      "text/plain": [
       "<Figure size 1000x600 with 1 Axes>"
      ]
     },
     "metadata": {
      "needs_background": "light"
     },
     "output_type": "display_data"
    }
   ],
   "source": [
    "plt.figure(figsize=(10,6), dpi = 100)\n",
    "plt.title('Number of Turkish Resturants for each Neighborhood in New York City')\n",
    "plt.xlabel('Neighborhood', fontsize = 10)\n",
    "plt.ylabel('Number of Turkish Resturants', fontsize=10)\n",
    "turkish_rest_nyc.groupby('Neighborhood')['ID'].nunique().nlargest(4).plot(kind='bar', color='lightsteelblue', align='center', width=0.7)\n",
    "plt.legend()\n",
    "plt.show()"
   ]
  },
  {
   "cell_type": "markdown",
   "metadata": {},
   "source": [
    "<i>Two neighborhoods: Manhattan Beach and Sheepshead Bay has the most with 4 each. Looks like we'll have to choose between the two neighborhoods. Let's go with Manhattan Beach</i>"
   ]
  },
  {
   "cell_type": "code",
   "execution_count": 17,
   "metadata": {},
   "outputs": [
    {
     "data": {
      "text/html": [
       "<div>\n",
       "<style scoped>\n",
       "    .dataframe tbody tr th:only-of-type {\n",
       "        vertical-align: middle;\n",
       "    }\n",
       "\n",
       "    .dataframe tbody tr th {\n",
       "        vertical-align: top;\n",
       "    }\n",
       "\n",
       "    .dataframe thead th {\n",
       "        text-align: right;\n",
       "    }\n",
       "</style>\n",
       "<table border=\"1\" class=\"dataframe\">\n",
       "  <thead>\n",
       "    <tr style=\"text-align: right;\">\n",
       "      <th></th>\n",
       "      <th>Borough</th>\n",
       "      <th>Neighborhood</th>\n",
       "      <th>ID</th>\n",
       "      <th>Name</th>\n",
       "    </tr>\n",
       "  </thead>\n",
       "  <tbody>\n",
       "    <tr>\n",
       "      <td>7</td>\n",
       "      <td>Brooklyn</td>\n",
       "      <td>Manhattan Beach</td>\n",
       "      <td>4b1d5405f964a520d70e24e3</td>\n",
       "      <td>Liman Restaurant</td>\n",
       "    </tr>\n",
       "    <tr>\n",
       "      <td>8</td>\n",
       "      <td>Brooklyn</td>\n",
       "      <td>Manhattan Beach</td>\n",
       "      <td>4fcbfc92e4b088c92e7e97ad</td>\n",
       "      <td>Opera Cafe Lounge</td>\n",
       "    </tr>\n",
       "    <tr>\n",
       "      <td>9</td>\n",
       "      <td>Brooklyn</td>\n",
       "      <td>Manhattan Beach</td>\n",
       "      <td>53800e9c498e1b7adfbaaf5d</td>\n",
       "      <td>Rocca Cafe &amp; Lounge</td>\n",
       "    </tr>\n",
       "    <tr>\n",
       "      <td>10</td>\n",
       "      <td>Brooklyn</td>\n",
       "      <td>Manhattan Beach</td>\n",
       "      <td>4a986cf5f964a520f32b20e3</td>\n",
       "      <td>Istanbul Restaurant Fish &amp; Kebab</td>\n",
       "    </tr>\n",
       "  </tbody>\n",
       "</table>\n",
       "</div>"
      ],
      "text/plain": [
       "     Borough     Neighborhood                        ID  \\\n",
       "7   Brooklyn  Manhattan Beach  4b1d5405f964a520d70e24e3   \n",
       "8   Brooklyn  Manhattan Beach  4fcbfc92e4b088c92e7e97ad   \n",
       "9   Brooklyn  Manhattan Beach  53800e9c498e1b7adfbaaf5d   \n",
       "10  Brooklyn  Manhattan Beach  4a986cf5f964a520f32b20e3   \n",
       "\n",
       "                                Name  \n",
       "7                   Liman Restaurant  \n",
       "8                  Opera Cafe Lounge  \n",
       "9                Rocca Cafe & Lounge  \n",
       "10  Istanbul Restaurant Fish & Kebab  "
      ]
     },
     "execution_count": 17,
     "metadata": {},
     "output_type": "execute_result"
    }
   ],
   "source": [
    "turkish_rest_nyc[turkish_rest_nyc['Neighborhood']=='Manhattan Beach']"
   ]
  },
  {
   "cell_type": "markdown",
   "metadata": {},
   "source": [
    "#### Let's get the ranking of each restaurant in Manhattan Beach"
   ]
  },
  {
   "cell_type": "code",
   "execution_count": 18,
   "metadata": {
    "scrolled": true
   },
   "outputs": [
    {
     "name": "stdout",
     "output_type": "stream",
     "text": [
      "                         ID          Name  Likes  Rating  Tips\n",
      "0  579d3e7c498effa33c0450af  Istanbul Bay     24     8.2     4\n",
      "( 1 / 27 ) processed\n",
      "                         ID        Name  Likes  Rating  Tips\n",
      "0  51a2a2a3498e0d5d337f137b  Wood Spoon      5     7.1     3\n",
      "( 2 / 27 ) processed\n",
      "                         ID               Name  Likes  Rating  Tips\n",
      "0  4fcbfc92e4b088c92e7e97ad  Opera Cafe Lounge    255     8.2    53\n",
      "( 3 / 27 ) processed\n",
      "                         ID              Name  Likes  Rating  Tips\n",
      "0  4b1d5405f964a520d70e24e3  Liman Restaurant     93     8.4    37\n",
      "( 4 / 27 ) processed\n",
      "                         ID                 Name  Likes  Rating  Tips\n",
      "0  53800e9c498e1b7adfbaaf5d  Rocca Cafe & Lounge    113     7.5    19\n",
      "( 5 / 27 ) processed\n",
      "                         ID                              Name  Likes  Rating  \\\n",
      "0  4a986cf5f964a520f32b20e3  Istanbul Restaurant Fish & Kebab     35     7.8   \n",
      "\n",
      "   Tips  \n",
      "0    15  \n",
      "( 6 / 27 ) processed\n",
      "                         ID                     Name  Likes  Rating  Tips\n",
      "0  4a060d32f964a520b1721fe3  Taci's Beyti Restaurant    246     8.9    66\n",
      "( 7 / 27 ) processed\n",
      "                         ID              Name  Likes  Rating  Tips\n",
      "0  4b1d5405f964a520d70e24e3  Liman Restaurant     93     8.4    37\n",
      "( 8 / 27 ) processed\n",
      "                         ID               Name  Likes  Rating  Tips\n",
      "0  4fcbfc92e4b088c92e7e97ad  Opera Cafe Lounge    255     8.2    53\n",
      "( 9 / 27 ) processed\n",
      "                         ID                 Name  Likes  Rating  Tips\n",
      "0  53800e9c498e1b7adfbaaf5d  Rocca Cafe & Lounge    113     7.5    19\n",
      "( 10 / 27 ) processed\n",
      "                         ID                              Name  Likes  Rating  \\\n",
      "0  4a986cf5f964a520f32b20e3  Istanbul Restaurant Fish & Kebab     35     7.8   \n",
      "\n",
      "   Tips  \n",
      "0    15  \n",
      "( 11 / 27 ) processed\n",
      "                         ID                                     Name  Likes  \\\n",
      "0  4aef96d2f964a5206fd921e3  Istanbul Turkish Fast Food & Restaurant     69   \n",
      "\n",
      "   Rating  Tips  \n",
      "0     7.4    39  \n",
      "( 12 / 27 ) processed\n",
      "                         ID          Name  Likes  Rating  Tips\n",
      "0  579d3e7c498effa33c0450af  Istanbul Bay     24     8.2     4\n",
      "( 13 / 27 ) processed\n",
      "                         ID                     Name  Likes  Rating  Tips\n",
      "0  4a060d32f964a520b1721fe3  Taci's Beyti Restaurant    246     8.9    66\n",
      "( 14 / 27 ) processed\n",
      "                         ID     Name  Likes  Rating  Tips\n",
      "0  49eb9b35f964a52001671fe3  Beyoglu    416     8.2   178\n",
      "( 15 / 27 ) processed\n",
      "                         ID                             Name  Likes  Rating  \\\n",
      "0  479309d9f964a520564d1fe3  Bodrum Mediterranean Restaurant    128     8.0   \n",
      "\n",
      "   Tips  \n",
      "0    49  \n",
      "( 16 / 27 ) processed\n",
      "                         ID           Name  Likes  Rating  Tips\n",
      "0  4b08b328f964a520021123e3  Turkish Grill     51     7.7    25\n",
      "( 17 / 27 ) processed\n",
      "                         ID          Name  Likes  Rating  Tips\n",
      "0  4a75dd5af964a52076e11fe3  Mangal Kebab     68     8.3    36\n",
      "( 18 / 27 ) processed\n",
      "                         ID                       Name  Likes  Rating  Tips\n",
      "0  5be8a67ef870fd002c3a27a2  Sofra Mediterranean Grill      9     7.7     3\n",
      "( 19 / 27 ) processed\n",
      "                         ID                Name  Likes  Rating  Tips\n",
      "0  5509f620498ed000afdc1bd0  Truva Cafe & Grill     70     8.6    21\n",
      "( 20 / 27 ) processed\n",
      "                         ID     Name  Likes  Rating  Tips\n",
      "0  5cb11a0766f3cd002c371624  Lokanta     18     8.6     7\n",
      "( 21 / 27 ) processed\n",
      "                         ID    Name  Likes  Rating  Tips\n",
      "0  5946e1464c954c4ff506a7f7  Rimtin     12     8.1     3\n",
      "( 22 / 27 ) processed\n",
      "Empty DataFrame\n",
      "Columns: [ID, Name, Likes, Rating, Tips]\n",
      "Index: []\n",
      "No data available for id= 5a7df29be2d4aa61d8523a0c\n",
      "( 23 / 27 ) processed\n",
      "                         ID     Name  Likes  Rating  Tips\n",
      "0  50fc9a88e4b04cfffaebe2cf  Sip Sak    280     9.0   100\n",
      "( 24 / 27 ) processed\n",
      "                         ID          Name  Likes  Rating  Tips\n",
      "0  4a75dd5af964a52076e11fe3  Mangal Kebab     68     8.3    36\n",
      "( 25 / 27 ) processed\n",
      "                         ID                       Name  Likes  Rating  Tips\n",
      "0  5be8a67ef870fd002c3a27a2  Sofra Mediterranean Grill      9     7.7     3\n",
      "( 26 / 27 ) processed\n",
      "                         ID           Name  Likes  Rating  Tips\n",
      "0  4b08b328f964a520021123e3  Turkish Grill     51     7.7    25\n",
      "( 27 / 27 ) processed\n"
     ]
    }
   ],
   "source": [
    "col_names=['Borough', 'Neighborhood', 'ID','Name','Likes','Rating','Tips']\n",
    "turkish_rest_stats_nyc=pd.DataFrame(columns=col_names)\n",
    "count=1\n",
    "\n",
    "\n",
    "for row in turkish_rest_nyc.values.tolist():\n",
    "    Borough,Neighborhood,ID,Name=row\n",
    "    try:\n",
    "        venue_details=get_venue_details(ID)\n",
    "        print(venue_details)\n",
    "        id,name,likes,rating,tips=venue_details.values.tolist()[0]\n",
    "    except IndexError:\n",
    "        print('No data available for id=',ID)\n",
    "        # if there are no data available, we will assign zero value for these restaurants\n",
    "        # they may be recently opened or details does not exist in FourSquare Database\n",
    "        id,name,likes,rating,tips=[0]*5\n",
    "    print('(',count,'/',len(turkish_rest_nyc),')','processed')\n",
    "    turkish_rest_stats_nyc = turkish_rest_stats_nyc.append({'Borough': Borough,\n",
    "                                                'Neighborhood': Neighborhood, \n",
    "                                                'ID': id,\n",
    "                                                'Name' : name,\n",
    "                                                'Likes' : likes,\n",
    "                                                'Rating' : rating,\n",
    "                                                'Tips' : tips\n",
    "                                               }, ignore_index=True)\n",
    "    count+=1"
   ]
  },
  {
   "cell_type": "markdown",
   "metadata": {},
   "source": [
    "#### Let's look at the ratings dataframe"
   ]
  },
  {
   "cell_type": "code",
   "execution_count": 19,
   "metadata": {},
   "outputs": [
    {
     "data": {
      "text/html": [
       "<div>\n",
       "<style scoped>\n",
       "    .dataframe tbody tr th:only-of-type {\n",
       "        vertical-align: middle;\n",
       "    }\n",
       "\n",
       "    .dataframe tbody tr th {\n",
       "        vertical-align: top;\n",
       "    }\n",
       "\n",
       "    .dataframe thead th {\n",
       "        text-align: right;\n",
       "    }\n",
       "</style>\n",
       "<table border=\"1\" class=\"dataframe\">\n",
       "  <thead>\n",
       "    <tr style=\"text-align: right;\">\n",
       "      <th></th>\n",
       "      <th>Borough</th>\n",
       "      <th>Neighborhood</th>\n",
       "      <th>ID</th>\n",
       "      <th>Name</th>\n",
       "      <th>Likes</th>\n",
       "      <th>Rating</th>\n",
       "      <th>Tips</th>\n",
       "    </tr>\n",
       "  </thead>\n",
       "  <tbody>\n",
       "    <tr>\n",
       "      <td>0</td>\n",
       "      <td>Brooklyn</td>\n",
       "      <td>Bay Ridge</td>\n",
       "      <td>579d3e7c498effa33c0450af</td>\n",
       "      <td>Istanbul Bay</td>\n",
       "      <td>24</td>\n",
       "      <td>8.2</td>\n",
       "      <td>4</td>\n",
       "    </tr>\n",
       "    <tr>\n",
       "      <td>1</td>\n",
       "      <td>Brooklyn</td>\n",
       "      <td>Gravesend</td>\n",
       "      <td>51a2a2a3498e0d5d337f137b</td>\n",
       "      <td>Wood Spoon</td>\n",
       "      <td>5</td>\n",
       "      <td>7.1</td>\n",
       "      <td>3</td>\n",
       "    </tr>\n",
       "    <tr>\n",
       "      <td>2</td>\n",
       "      <td>Brooklyn</td>\n",
       "      <td>Sheepshead Bay</td>\n",
       "      <td>4fcbfc92e4b088c92e7e97ad</td>\n",
       "      <td>Opera Cafe Lounge</td>\n",
       "      <td>255</td>\n",
       "      <td>8.2</td>\n",
       "      <td>53</td>\n",
       "    </tr>\n",
       "    <tr>\n",
       "      <td>3</td>\n",
       "      <td>Brooklyn</td>\n",
       "      <td>Sheepshead Bay</td>\n",
       "      <td>4b1d5405f964a520d70e24e3</td>\n",
       "      <td>Liman Restaurant</td>\n",
       "      <td>93</td>\n",
       "      <td>8.4</td>\n",
       "      <td>37</td>\n",
       "    </tr>\n",
       "    <tr>\n",
       "      <td>4</td>\n",
       "      <td>Brooklyn</td>\n",
       "      <td>Sheepshead Bay</td>\n",
       "      <td>53800e9c498e1b7adfbaaf5d</td>\n",
       "      <td>Rocca Cafe &amp; Lounge</td>\n",
       "      <td>113</td>\n",
       "      <td>7.5</td>\n",
       "      <td>19</td>\n",
       "    </tr>\n",
       "  </tbody>\n",
       "</table>\n",
       "</div>"
      ],
      "text/plain": [
       "    Borough    Neighborhood                        ID                 Name  \\\n",
       "0  Brooklyn       Bay Ridge  579d3e7c498effa33c0450af         Istanbul Bay   \n",
       "1  Brooklyn       Gravesend  51a2a2a3498e0d5d337f137b           Wood Spoon   \n",
       "2  Brooklyn  Sheepshead Bay  4fcbfc92e4b088c92e7e97ad    Opera Cafe Lounge   \n",
       "3  Brooklyn  Sheepshead Bay  4b1d5405f964a520d70e24e3     Liman Restaurant   \n",
       "4  Brooklyn  Sheepshead Bay  53800e9c498e1b7adfbaaf5d  Rocca Cafe & Lounge   \n",
       "\n",
       "  Likes  Rating Tips  \n",
       "0    24     8.2    4  \n",
       "1     5     7.1    3  \n",
       "2   255     8.2   53  \n",
       "3    93     8.4   37  \n",
       "4   113     7.5   19  "
      ]
     },
     "execution_count": 19,
     "metadata": {},
     "output_type": "execute_result"
    }
   ],
   "source": [
    "turkish_rest_stats_nyc.head()"
   ]
  },
  {
   "cell_type": "code",
   "execution_count": 20,
   "metadata": {},
   "outputs": [
    {
     "data": {
      "text/plain": [
       "(27, 7)"
      ]
     },
     "execution_count": 20,
     "metadata": {},
     "output_type": "execute_result"
    }
   ],
   "source": [
    "turkish_rest_stats_nyc.shape"
   ]
  },
  {
   "cell_type": "code",
   "execution_count": 21,
   "metadata": {},
   "outputs": [
    {
     "data": {
      "text/plain": [
       "(27, 4)"
      ]
     },
     "execution_count": 21,
     "metadata": {},
     "output_type": "execute_result"
    }
   ],
   "source": [
    "turkish_rest_nyc.shape"
   ]
  },
  {
   "cell_type": "markdown",
   "metadata": {},
   "source": [
    "<i> Let's save the data into a csv file since there are 500 premium calls per day using Foursquare API. </i>"
   ]
  },
  {
   "cell_type": "code",
   "execution_count": 22,
   "metadata": {},
   "outputs": [],
   "source": [
    "turkish_rest_stats_nyc.to_csv('turkish_rest_stats_nyc.csv', index=False)"
   ]
  },
  {
   "cell_type": "markdown",
   "metadata": {},
   "source": [
    "<i>Let's verify the data to ensure match</i>"
   ]
  },
  {
   "cell_type": "code",
   "execution_count": 23,
   "metadata": {},
   "outputs": [
    {
     "data": {
      "text/plain": [
       "(27, 7)"
      ]
     },
     "execution_count": 23,
     "metadata": {},
     "output_type": "execute_result"
    }
   ],
   "source": [
    "turkish_rest_stats_nyc_csv=pd.read_csv('turkish_rest_stats_nyc.csv')\n",
    "turkish_rest_stats_nyc_csv.shape"
   ]
  },
  {
   "cell_type": "code",
   "execution_count": 24,
   "metadata": {},
   "outputs": [
    {
     "data": {
      "text/html": [
       "<div>\n",
       "<style scoped>\n",
       "    .dataframe tbody tr th:only-of-type {\n",
       "        vertical-align: middle;\n",
       "    }\n",
       "\n",
       "    .dataframe tbody tr th {\n",
       "        vertical-align: top;\n",
       "    }\n",
       "\n",
       "    .dataframe thead th {\n",
       "        text-align: right;\n",
       "    }\n",
       "</style>\n",
       "<table border=\"1\" class=\"dataframe\">\n",
       "  <thead>\n",
       "    <tr style=\"text-align: right;\">\n",
       "      <th></th>\n",
       "      <th>Borough</th>\n",
       "      <th>Neighborhood</th>\n",
       "      <th>ID</th>\n",
       "      <th>Name</th>\n",
       "      <th>Likes</th>\n",
       "      <th>Rating</th>\n",
       "      <th>Tips</th>\n",
       "    </tr>\n",
       "  </thead>\n",
       "  <tbody>\n",
       "    <tr>\n",
       "      <td>0</td>\n",
       "      <td>Brooklyn</td>\n",
       "      <td>Bay Ridge</td>\n",
       "      <td>579d3e7c498effa33c0450af</td>\n",
       "      <td>Istanbul Bay</td>\n",
       "      <td>24</td>\n",
       "      <td>8.2</td>\n",
       "      <td>4</td>\n",
       "    </tr>\n",
       "    <tr>\n",
       "      <td>1</td>\n",
       "      <td>Brooklyn</td>\n",
       "      <td>Gravesend</td>\n",
       "      <td>51a2a2a3498e0d5d337f137b</td>\n",
       "      <td>Wood Spoon</td>\n",
       "      <td>5</td>\n",
       "      <td>7.1</td>\n",
       "      <td>3</td>\n",
       "    </tr>\n",
       "    <tr>\n",
       "      <td>2</td>\n",
       "      <td>Brooklyn</td>\n",
       "      <td>Sheepshead Bay</td>\n",
       "      <td>4fcbfc92e4b088c92e7e97ad</td>\n",
       "      <td>Opera Cafe Lounge</td>\n",
       "      <td>255</td>\n",
       "      <td>8.2</td>\n",
       "      <td>53</td>\n",
       "    </tr>\n",
       "    <tr>\n",
       "      <td>3</td>\n",
       "      <td>Brooklyn</td>\n",
       "      <td>Sheepshead Bay</td>\n",
       "      <td>4b1d5405f964a520d70e24e3</td>\n",
       "      <td>Liman Restaurant</td>\n",
       "      <td>93</td>\n",
       "      <td>8.4</td>\n",
       "      <td>37</td>\n",
       "    </tr>\n",
       "    <tr>\n",
       "      <td>4</td>\n",
       "      <td>Brooklyn</td>\n",
       "      <td>Sheepshead Bay</td>\n",
       "      <td>53800e9c498e1b7adfbaaf5d</td>\n",
       "      <td>Rocca Cafe &amp; Lounge</td>\n",
       "      <td>113</td>\n",
       "      <td>7.5</td>\n",
       "      <td>19</td>\n",
       "    </tr>\n",
       "  </tbody>\n",
       "</table>\n",
       "</div>"
      ],
      "text/plain": [
       "    Borough    Neighborhood                        ID                 Name  \\\n",
       "0  Brooklyn       Bay Ridge  579d3e7c498effa33c0450af         Istanbul Bay   \n",
       "1  Brooklyn       Gravesend  51a2a2a3498e0d5d337f137b           Wood Spoon   \n",
       "2  Brooklyn  Sheepshead Bay  4fcbfc92e4b088c92e7e97ad    Opera Cafe Lounge   \n",
       "3  Brooklyn  Sheepshead Bay  4b1d5405f964a520d70e24e3     Liman Restaurant   \n",
       "4  Brooklyn  Sheepshead Bay  53800e9c498e1b7adfbaaf5d  Rocca Cafe & Lounge   \n",
       "\n",
       "   Likes  Rating  Tips  \n",
       "0     24     8.2     4  \n",
       "1      5     7.1     3  \n",
       "2    255     8.2    53  \n",
       "3     93     8.4    37  \n",
       "4    113     7.5    19  "
      ]
     },
     "execution_count": 24,
     "metadata": {},
     "output_type": "execute_result"
    }
   ],
   "source": [
    "turkish_rest_stats_nyc_csv.head()"
   ]
  },
  {
   "cell_type": "markdown",
   "metadata": {},
   "source": [
    "<i> Now let's take a look at the turkish_rest_stats_nyc dataframe info </i>"
   ]
  },
  {
   "cell_type": "code",
   "execution_count": 25,
   "metadata": {},
   "outputs": [
    {
     "name": "stdout",
     "output_type": "stream",
     "text": [
      "<class 'pandas.core.frame.DataFrame'>\n",
      "RangeIndex: 27 entries, 0 to 26\n",
      "Data columns (total 7 columns):\n",
      "Borough         27 non-null object\n",
      "Neighborhood    27 non-null object\n",
      "ID              27 non-null object\n",
      "Name            27 non-null object\n",
      "Likes           27 non-null object\n",
      "Rating          27 non-null float64\n",
      "Tips            27 non-null object\n",
      "dtypes: float64(1), object(6)\n",
      "memory usage: 1.6+ KB\n"
     ]
    }
   ],
   "source": [
    "turkish_rest_stats_nyc.info()"
   ]
  },
  {
   "cell_type": "markdown",
   "metadata": {},
   "source": [
    "<i> Likes and tips columns are of string type. These need to be converted into float </i>"
   ]
  },
  {
   "cell_type": "code",
   "execution_count": 26,
   "metadata": {},
   "outputs": [
    {
     "name": "stdout",
     "output_type": "stream",
     "text": [
      "<class 'pandas.core.frame.DataFrame'>\n",
      "RangeIndex: 27 entries, 0 to 26\n",
      "Data columns (total 7 columns):\n",
      "Borough         27 non-null object\n",
      "Neighborhood    27 non-null object\n",
      "ID              27 non-null object\n",
      "Name            27 non-null object\n",
      "Likes           27 non-null float64\n",
      "Rating          27 non-null float64\n",
      "Tips            27 non-null float64\n",
      "dtypes: float64(3), object(4)\n",
      "memory usage: 1.6+ KB\n"
     ]
    }
   ],
   "source": [
    "turkish_rest_stats_nyc['Likes']=turkish_rest_stats_nyc['Likes'].astype('float64')\n",
    "turkish_rest_stats_nyc['Tips']=turkish_rest_stats_nyc['Tips'].astype('float64')\n",
    "turkish_rest_stats_nyc.info()"
   ]
  },
  {
   "cell_type": "markdown",
   "metadata": {},
   "source": [
    "#### Identifying the top restaurants"
   ]
  },
  {
   "cell_type": "code",
   "execution_count": 27,
   "metadata": {},
   "outputs": [
    {
     "name": "stdout",
     "output_type": "stream",
     "text": [
      "Restaurant with most likes:\n",
      " Borough                        Manhattan\n",
      "Neighborhood             Upper East Side\n",
      "ID              49eb9b35f964a52001671fe3\n",
      "Name                             Beyoglu\n",
      "Likes                                416\n",
      "Rating                               8.2\n",
      "Tips                                 178\n",
      "Name: 14, dtype: object\n",
      "\n",
      "Restaurant with max rating:\n",
      " Borough                        Manhattan\n",
      "Neighborhood                  Turtle Bay\n",
      "ID              50fc9a88e4b04cfffaebe2cf\n",
      "Name                             Sip Sak\n",
      "Likes                                280\n",
      "Rating                                 9\n",
      "Tips                                 100\n",
      "Name: 23, dtype: object\n",
      "\n",
      "Restaurant with most tips:\n",
      " Borough                        Manhattan\n",
      "Neighborhood             Upper East Side\n",
      "ID              49eb9b35f964a52001671fe3\n",
      "Name                             Beyoglu\n",
      "Likes                                416\n",
      "Rating                               8.2\n",
      "Tips                                 178\n",
      "Name: 14, dtype: object\n"
     ]
    }
   ],
   "source": [
    "print(\"Restaurant with most likes:\\n\", turkish_rest_stats_nyc.iloc[turkish_rest_stats_nyc['Likes'].idxmax()])\n",
    "print()\n",
    "print(\"Restaurant with max rating:\\n\", turkish_rest_stats_nyc.iloc[turkish_rest_stats_nyc['Rating'].idxmax()])\n",
    "print()\n",
    "print(\"Restaurant with most tips:\\n\", turkish_rest_stats_nyc.iloc[turkish_rest_stats_nyc['Tips'].idxmax()])"
   ]
  },
  {
   "cell_type": "markdown",
   "metadata": {},
   "source": [
    "### Visualization"
   ]
  },
  {
   "cell_type": "markdown",
   "metadata": {},
   "source": [
    "##### First, some preparation\n",
    "<i> Neighborhoods with maximum average rating of Turkish restaurants</i>"
   ]
  },
  {
   "cell_type": "code",
   "execution_count": 28,
   "metadata": {},
   "outputs": [
    {
     "data": {
      "text/html": [
       "<div>\n",
       "<style scoped>\n",
       "    .dataframe tbody tr th:only-of-type {\n",
       "        vertical-align: middle;\n",
       "    }\n",
       "\n",
       "    .dataframe tbody tr th {\n",
       "        vertical-align: top;\n",
       "    }\n",
       "\n",
       "    .dataframe thead th {\n",
       "        text-align: right;\n",
       "    }\n",
       "</style>\n",
       "<table border=\"1\" class=\"dataframe\">\n",
       "  <thead>\n",
       "    <tr style=\"text-align: right;\">\n",
       "      <th></th>\n",
       "      <th>Neighborhood</th>\n",
       "      <th>Average Rating</th>\n",
       "    </tr>\n",
       "  </thead>\n",
       "  <tbody>\n",
       "    <tr>\n",
       "      <td>14</td>\n",
       "      <td>Turtle Bay</td>\n",
       "      <td>9.0</td>\n",
       "    </tr>\n",
       "    <tr>\n",
       "      <td>8</td>\n",
       "      <td>Ocean Parkway</td>\n",
       "      <td>8.9</td>\n",
       "    </tr>\n",
       "    <tr>\n",
       "      <td>7</td>\n",
       "      <td>Manhattan Terrace</td>\n",
       "      <td>8.9</td>\n",
       "    </tr>\n",
       "    <tr>\n",
       "      <td>9</td>\n",
       "      <td>Ravenswood</td>\n",
       "      <td>8.6</td>\n",
       "    </tr>\n",
       "    <tr>\n",
       "      <td>11</td>\n",
       "      <td>Steinway</td>\n",
       "      <td>8.6</td>\n",
       "    </tr>\n",
       "    <tr>\n",
       "      <td>15</td>\n",
       "      <td>Upper East Side</td>\n",
       "      <td>8.2</td>\n",
       "    </tr>\n",
       "    <tr>\n",
       "      <td>3</td>\n",
       "      <td>Dyker Heights</td>\n",
       "      <td>8.2</td>\n",
       "    </tr>\n",
       "    <tr>\n",
       "      <td>1</td>\n",
       "      <td>Bay Ridge</td>\n",
       "      <td>8.2</td>\n",
       "    </tr>\n",
       "    <tr>\n",
       "      <td>4</td>\n",
       "      <td>Forest Hills Gardens</td>\n",
       "      <td>8.1</td>\n",
       "    </tr>\n",
       "    <tr>\n",
       "      <td>16</td>\n",
       "      <td>Upper West Side</td>\n",
       "      <td>8.0</td>\n",
       "    </tr>\n",
       "  </tbody>\n",
       "</table>\n",
       "</div>"
      ],
      "text/plain": [
       "            Neighborhood  Average Rating\n",
       "14            Turtle Bay             9.0\n",
       "8          Ocean Parkway             8.9\n",
       "7      Manhattan Terrace             8.9\n",
       "9             Ravenswood             8.6\n",
       "11              Steinway             8.6\n",
       "15       Upper East Side             8.2\n",
       "3          Dyker Heights             8.2\n",
       "1              Bay Ridge             8.2\n",
       "4   Forest Hills Gardens             8.1\n",
       "16       Upper West Side             8.0"
      ]
     },
     "execution_count": 28,
     "metadata": {},
     "output_type": "execute_result"
    }
   ],
   "source": [
    "ny_neighborhood_stats=turkish_rest_stats_nyc.groupby('Neighborhood',as_index=False).mean()[['Neighborhood','Rating']]\n",
    "ny_neighborhood_stats.columns=['Neighborhood','Average Rating']\n",
    "ny_neighborhood_stats.sort_values(['Average Rating'],ascending=False).head(10)"
   ]
  },
  {
   "cell_type": "markdown",
   "metadata": {},
   "source": [
    "<i> Boroughs with maximum average rating of Turkish restaurants</i>"
   ]
  },
  {
   "cell_type": "code",
   "execution_count": 29,
   "metadata": {},
   "outputs": [
    {
     "data": {
      "text/html": [
       "<div>\n",
       "<style scoped>\n",
       "    .dataframe tbody tr th:only-of-type {\n",
       "        vertical-align: middle;\n",
       "    }\n",
       "\n",
       "    .dataframe tbody tr th {\n",
       "        vertical-align: top;\n",
       "    }\n",
       "\n",
       "    .dataframe thead th {\n",
       "        text-align: right;\n",
       "    }\n",
       "</style>\n",
       "<table border=\"1\" class=\"dataframe\">\n",
       "  <thead>\n",
       "    <tr style=\"text-align: right;\">\n",
       "      <th></th>\n",
       "      <th>Borough</th>\n",
       "      <th>Average Rating</th>\n",
       "    </tr>\n",
       "  </thead>\n",
       "  <tbody>\n",
       "    <tr>\n",
       "      <td>1</td>\n",
       "      <td>Manhattan</td>\n",
       "      <td>8.400000</td>\n",
       "    </tr>\n",
       "    <tr>\n",
       "      <td>2</td>\n",
       "      <td>Queens</td>\n",
       "      <td>8.077778</td>\n",
       "    </tr>\n",
       "    <tr>\n",
       "      <td>0</td>\n",
       "      <td>Brooklyn</td>\n",
       "      <td>8.035714</td>\n",
       "    </tr>\n",
       "    <tr>\n",
       "      <td>3</td>\n",
       "      <td>Staten Island</td>\n",
       "      <td>0.000000</td>\n",
       "    </tr>\n",
       "  </tbody>\n",
       "</table>\n",
       "</div>"
      ],
      "text/plain": [
       "         Borough  Average Rating\n",
       "1      Manhattan        8.400000\n",
       "2         Queens        8.077778\n",
       "0       Brooklyn        8.035714\n",
       "3  Staten Island        0.000000"
      ]
     },
     "execution_count": 29,
     "metadata": {},
     "output_type": "execute_result"
    }
   ],
   "source": [
    "ny_borough_stats=turkish_rest_stats_nyc.groupby('Borough',as_index=False).mean()[['Borough','Rating']]\n",
    "ny_borough_stats.columns=['Borough','Average Rating']\n",
    "ny_borough_stats.sort_values(['Average Rating'],ascending=False).head()"
   ]
  },
  {
   "cell_type": "markdown",
   "metadata": {},
   "source": [
    "<i> Since there are no ratings in Staten Island, let's drop it</i>"
   ]
  },
  {
   "cell_type": "code",
   "execution_count": 30,
   "metadata": {},
   "outputs": [],
   "source": [
    "ny_borough_stats.drop(3, inplace=True)"
   ]
  },
  {
   "cell_type": "markdown",
   "metadata": {},
   "source": [
    "<i> Let's check the other Borough dataframe to make sure and drop if necessary</i>"
   ]
  },
  {
   "cell_type": "code",
   "execution_count": 31,
   "metadata": {},
   "outputs": [
    {
     "data": {
      "text/html": [
       "<div>\n",
       "<style scoped>\n",
       "    .dataframe tbody tr th:only-of-type {\n",
       "        vertical-align: middle;\n",
       "    }\n",
       "\n",
       "    .dataframe tbody tr th {\n",
       "        vertical-align: top;\n",
       "    }\n",
       "\n",
       "    .dataframe thead th {\n",
       "        text-align: right;\n",
       "    }\n",
       "</style>\n",
       "<table border=\"1\" class=\"dataframe\">\n",
       "  <thead>\n",
       "    <tr style=\"text-align: right;\">\n",
       "      <th></th>\n",
       "      <th>Borough</th>\n",
       "      <th>Neighborhood</th>\n",
       "      <th>ID</th>\n",
       "      <th>Name</th>\n",
       "      <th>Likes</th>\n",
       "      <th>Rating</th>\n",
       "      <th>Tips</th>\n",
       "    </tr>\n",
       "  </thead>\n",
       "  <tbody>\n",
       "    <tr>\n",
       "      <td>22</td>\n",
       "      <td>Staten Island</td>\n",
       "      <td>Dongan Hills</td>\n",
       "      <td>0</td>\n",
       "      <td>0</td>\n",
       "      <td>0.0</td>\n",
       "      <td>0.0</td>\n",
       "      <td>0.0</td>\n",
       "    </tr>\n",
       "    <tr>\n",
       "      <td>1</td>\n",
       "      <td>Brooklyn</td>\n",
       "      <td>Gravesend</td>\n",
       "      <td>51a2a2a3498e0d5d337f137b</td>\n",
       "      <td>Wood Spoon</td>\n",
       "      <td>5.0</td>\n",
       "      <td>7.1</td>\n",
       "      <td>3.0</td>\n",
       "    </tr>\n",
       "    <tr>\n",
       "      <td>11</td>\n",
       "      <td>Brooklyn</td>\n",
       "      <td>Bath Beach</td>\n",
       "      <td>4aef96d2f964a5206fd921e3</td>\n",
       "      <td>Istanbul Turkish Fast Food &amp; Restaurant</td>\n",
       "      <td>69.0</td>\n",
       "      <td>7.4</td>\n",
       "      <td>39.0</td>\n",
       "    </tr>\n",
       "    <tr>\n",
       "      <td>4</td>\n",
       "      <td>Brooklyn</td>\n",
       "      <td>Sheepshead Bay</td>\n",
       "      <td>53800e9c498e1b7adfbaaf5d</td>\n",
       "      <td>Rocca Cafe &amp; Lounge</td>\n",
       "      <td>113.0</td>\n",
       "      <td>7.5</td>\n",
       "      <td>19.0</td>\n",
       "    </tr>\n",
       "    <tr>\n",
       "      <td>9</td>\n",
       "      <td>Brooklyn</td>\n",
       "      <td>Manhattan Beach</td>\n",
       "      <td>53800e9c498e1b7adfbaaf5d</td>\n",
       "      <td>Rocca Cafe &amp; Lounge</td>\n",
       "      <td>113.0</td>\n",
       "      <td>7.5</td>\n",
       "      <td>19.0</td>\n",
       "    </tr>\n",
       "  </tbody>\n",
       "</table>\n",
       "</div>"
      ],
      "text/plain": [
       "          Borough     Neighborhood                        ID  \\\n",
       "22  Staten Island     Dongan Hills                         0   \n",
       "1        Brooklyn        Gravesend  51a2a2a3498e0d5d337f137b   \n",
       "11       Brooklyn       Bath Beach  4aef96d2f964a5206fd921e3   \n",
       "4        Brooklyn   Sheepshead Bay  53800e9c498e1b7adfbaaf5d   \n",
       "9        Brooklyn  Manhattan Beach  53800e9c498e1b7adfbaaf5d   \n",
       "\n",
       "                                       Name  Likes  Rating  Tips  \n",
       "22                                        0    0.0     0.0   0.0  \n",
       "1                                Wood Spoon    5.0     7.1   3.0  \n",
       "11  Istanbul Turkish Fast Food & Restaurant   69.0     7.4  39.0  \n",
       "4                       Rocca Cafe & Lounge  113.0     7.5  19.0  \n",
       "9                       Rocca Cafe & Lounge  113.0     7.5  19.0  "
      ]
     },
     "execution_count": 31,
     "metadata": {},
     "output_type": "execute_result"
    }
   ],
   "source": [
    "turkish_rest_stats_nyc.sort_values(['Rating'],ascending=True).head()"
   ]
  },
  {
   "cell_type": "code",
   "execution_count": 32,
   "metadata": {},
   "outputs": [],
   "source": [
    "turkish_rest_stats_nyc.drop(22, inplace=True)"
   ]
  },
  {
   "cell_type": "code",
   "execution_count": 33,
   "metadata": {},
   "outputs": [
    {
     "data": {
      "text/html": [
       "<div>\n",
       "<style scoped>\n",
       "    .dataframe tbody tr th:only-of-type {\n",
       "        vertical-align: middle;\n",
       "    }\n",
       "\n",
       "    .dataframe tbody tr th {\n",
       "        vertical-align: top;\n",
       "    }\n",
       "\n",
       "    .dataframe thead th {\n",
       "        text-align: right;\n",
       "    }\n",
       "</style>\n",
       "<table border=\"1\" class=\"dataframe\">\n",
       "  <thead>\n",
       "    <tr style=\"text-align: right;\">\n",
       "      <th></th>\n",
       "      <th>Borough</th>\n",
       "      <th>Neighborhood</th>\n",
       "      <th>ID</th>\n",
       "      <th>Name</th>\n",
       "      <th>Likes</th>\n",
       "      <th>Rating</th>\n",
       "      <th>Tips</th>\n",
       "    </tr>\n",
       "  </thead>\n",
       "  <tbody>\n",
       "    <tr>\n",
       "      <td>1</td>\n",
       "      <td>Brooklyn</td>\n",
       "      <td>Gravesend</td>\n",
       "      <td>51a2a2a3498e0d5d337f137b</td>\n",
       "      <td>Wood Spoon</td>\n",
       "      <td>5.0</td>\n",
       "      <td>7.1</td>\n",
       "      <td>3.0</td>\n",
       "    </tr>\n",
       "    <tr>\n",
       "      <td>11</td>\n",
       "      <td>Brooklyn</td>\n",
       "      <td>Bath Beach</td>\n",
       "      <td>4aef96d2f964a5206fd921e3</td>\n",
       "      <td>Istanbul Turkish Fast Food &amp; Restaurant</td>\n",
       "      <td>69.0</td>\n",
       "      <td>7.4</td>\n",
       "      <td>39.0</td>\n",
       "    </tr>\n",
       "    <tr>\n",
       "      <td>4</td>\n",
       "      <td>Brooklyn</td>\n",
       "      <td>Sheepshead Bay</td>\n",
       "      <td>53800e9c498e1b7adfbaaf5d</td>\n",
       "      <td>Rocca Cafe &amp; Lounge</td>\n",
       "      <td>113.0</td>\n",
       "      <td>7.5</td>\n",
       "      <td>19.0</td>\n",
       "    </tr>\n",
       "    <tr>\n",
       "      <td>9</td>\n",
       "      <td>Brooklyn</td>\n",
       "      <td>Manhattan Beach</td>\n",
       "      <td>53800e9c498e1b7adfbaaf5d</td>\n",
       "      <td>Rocca Cafe &amp; Lounge</td>\n",
       "      <td>113.0</td>\n",
       "      <td>7.5</td>\n",
       "      <td>19.0</td>\n",
       "    </tr>\n",
       "    <tr>\n",
       "      <td>26</td>\n",
       "      <td>Queens</td>\n",
       "      <td>Sunnyside Gardens</td>\n",
       "      <td>4b08b328f964a520021123e3</td>\n",
       "      <td>Turkish Grill</td>\n",
       "      <td>51.0</td>\n",
       "      <td>7.7</td>\n",
       "      <td>25.0</td>\n",
       "    </tr>\n",
       "  </tbody>\n",
       "</table>\n",
       "</div>"
      ],
      "text/plain": [
       "     Borough       Neighborhood                        ID  \\\n",
       "1   Brooklyn          Gravesend  51a2a2a3498e0d5d337f137b   \n",
       "11  Brooklyn         Bath Beach  4aef96d2f964a5206fd921e3   \n",
       "4   Brooklyn     Sheepshead Bay  53800e9c498e1b7adfbaaf5d   \n",
       "9   Brooklyn    Manhattan Beach  53800e9c498e1b7adfbaaf5d   \n",
       "26    Queens  Sunnyside Gardens  4b08b328f964a520021123e3   \n",
       "\n",
       "                                       Name  Likes  Rating  Tips  \n",
       "1                                Wood Spoon    5.0     7.1   3.0  \n",
       "11  Istanbul Turkish Fast Food & Restaurant   69.0     7.4  39.0  \n",
       "4                       Rocca Cafe & Lounge  113.0     7.5  19.0  \n",
       "9                       Rocca Cafe & Lounge  113.0     7.5  19.0  \n",
       "26                            Turkish Grill   51.0     7.7  25.0  "
      ]
     },
     "execution_count": 33,
     "metadata": {},
     "output_type": "execute_result"
    }
   ],
   "source": [
    "turkish_rest_stats_nyc.sort_values(['Rating'],ascending=True).head()"
   ]
  },
  {
   "cell_type": "code",
   "execution_count": 118,
   "metadata": {},
   "outputs": [
    {
     "data": {
      "text/plain": [
       "Borough\n",
       "Brooklyn     8.035714\n",
       "Manhattan    8.400000\n",
       "Queens       8.077778\n",
       "Name: Rating, dtype: float64"
      ]
     },
     "execution_count": 118,
     "metadata": {},
     "output_type": "execute_result"
    }
   ],
   "source": [
    "turkish_rest_stats_nyc.groupby('Borough').mean()['Rating']"
   ]
  },
  {
   "cell_type": "markdown",
   "metadata": {},
   "source": [
    "### Plotting the average rating of Turkish restaurants for each borough"
   ]
  },
  {
   "cell_type": "code",
   "execution_count": 34,
   "metadata": {},
   "outputs": [
    {
     "data": {
      "image/png": "[encoded data removed]",
      "text/plain": [
       "<Figure size 1000x600 with 1 Axes>"
      ]
     },
     "metadata": {
      "needs_background": "light"
     },
     "output_type": "display_data"
    }
   ],
   "source": [
    "plt.figure(figsize=(10,6), dpi = 100)\n",
    "plt.title('Average rating of Turkish Resturants for each Borough')\n",
    "plt.xlabel('Borough', fontsize = 10)\n",
    "plt.ylabel('Average Rating', fontsize=10)\n",
    "turkish_rest_stats_nyc.groupby('Borough').mean()['Rating'].plot(kind='bar', color='lightsteelblue', align='center', width=0.7)\n",
    "plt.legend()\n",
    "plt.show()"
   ]
  },
  {
   "cell_type": "markdown",
   "metadata": {},
   "source": [
    "<i>Looks like the average ratings are considerably high so we don't necessarily need to filter out low rated restaurants.</i>\n",
    "<i>Let's merge this dataset with original NYC dataset to get coordinates in </i>\n"
   ]
  },
  {
   "cell_type": "code",
   "execution_count": 35,
   "metadata": {},
   "outputs": [],
   "source": [
    "ny_neighborhood_stats=pd.merge(ny_neighborhood_stats,nyc_data, on='Neighborhood')"
   ]
  },
  {
   "cell_type": "code",
   "execution_count": 36,
   "metadata": {},
   "outputs": [],
   "source": [
    "ny_neighborhood_stats=ny_neighborhood_stats[['Borough','Neighborhood','Latitude','Longitude','Average Rating']]"
   ]
  },
  {
   "cell_type": "code",
   "execution_count": 37,
   "metadata": {},
   "outputs": [
    {
     "data": {
      "text/html": [
       "<div>\n",
       "<style scoped>\n",
       "    .dataframe tbody tr th:only-of-type {\n",
       "        vertical-align: middle;\n",
       "    }\n",
       "\n",
       "    .dataframe tbody tr th {\n",
       "        vertical-align: top;\n",
       "    }\n",
       "\n",
       "    .dataframe thead th {\n",
       "        text-align: right;\n",
       "    }\n",
       "</style>\n",
       "<table border=\"1\" class=\"dataframe\">\n",
       "  <thead>\n",
       "    <tr style=\"text-align: right;\">\n",
       "      <th></th>\n",
       "      <th>Borough</th>\n",
       "      <th>Neighborhood</th>\n",
       "      <th>Latitude</th>\n",
       "      <th>Longitude</th>\n",
       "      <th>Average Rating</th>\n",
       "    </tr>\n",
       "  </thead>\n",
       "  <tbody>\n",
       "    <tr>\n",
       "      <td>0</td>\n",
       "      <td>Brooklyn</td>\n",
       "      <td>Bath Beach</td>\n",
       "      <td>40.599519</td>\n",
       "      <td>-73.998752</td>\n",
       "      <td>7.400</td>\n",
       "    </tr>\n",
       "    <tr>\n",
       "      <td>1</td>\n",
       "      <td>Brooklyn</td>\n",
       "      <td>Bay Ridge</td>\n",
       "      <td>40.625801</td>\n",
       "      <td>-74.030621</td>\n",
       "      <td>8.200</td>\n",
       "    </tr>\n",
       "    <tr>\n",
       "      <td>2</td>\n",
       "      <td>Staten Island</td>\n",
       "      <td>Dongan Hills</td>\n",
       "      <td>40.588673</td>\n",
       "      <td>-74.096399</td>\n",
       "      <td>0.000</td>\n",
       "    </tr>\n",
       "    <tr>\n",
       "      <td>3</td>\n",
       "      <td>Brooklyn</td>\n",
       "      <td>Dyker Heights</td>\n",
       "      <td>40.619219</td>\n",
       "      <td>-74.019314</td>\n",
       "      <td>8.200</td>\n",
       "    </tr>\n",
       "    <tr>\n",
       "      <td>4</td>\n",
       "      <td>Queens</td>\n",
       "      <td>Forest Hills Gardens</td>\n",
       "      <td>40.714611</td>\n",
       "      <td>-73.841022</td>\n",
       "      <td>8.100</td>\n",
       "    </tr>\n",
       "    <tr>\n",
       "      <td>5</td>\n",
       "      <td>Brooklyn</td>\n",
       "      <td>Gravesend</td>\n",
       "      <td>40.595260</td>\n",
       "      <td>-73.973471</td>\n",
       "      <td>7.100</td>\n",
       "    </tr>\n",
       "    <tr>\n",
       "      <td>6</td>\n",
       "      <td>Brooklyn</td>\n",
       "      <td>Manhattan Beach</td>\n",
       "      <td>40.577914</td>\n",
       "      <td>-73.943537</td>\n",
       "      <td>7.975</td>\n",
       "    </tr>\n",
       "    <tr>\n",
       "      <td>7</td>\n",
       "      <td>Brooklyn</td>\n",
       "      <td>Manhattan Terrace</td>\n",
       "      <td>40.614433</td>\n",
       "      <td>-73.957438</td>\n",
       "      <td>8.900</td>\n",
       "    </tr>\n",
       "    <tr>\n",
       "      <td>8</td>\n",
       "      <td>Brooklyn</td>\n",
       "      <td>Ocean Parkway</td>\n",
       "      <td>40.613060</td>\n",
       "      <td>-73.968367</td>\n",
       "      <td>8.900</td>\n",
       "    </tr>\n",
       "    <tr>\n",
       "      <td>9</td>\n",
       "      <td>Queens</td>\n",
       "      <td>Ravenswood</td>\n",
       "      <td>40.761705</td>\n",
       "      <td>-73.931575</td>\n",
       "      <td>8.600</td>\n",
       "    </tr>\n",
       "    <tr>\n",
       "      <td>10</td>\n",
       "      <td>Brooklyn</td>\n",
       "      <td>Sheepshead Bay</td>\n",
       "      <td>40.586890</td>\n",
       "      <td>-73.943186</td>\n",
       "      <td>7.975</td>\n",
       "    </tr>\n",
       "    <tr>\n",
       "      <td>11</td>\n",
       "      <td>Queens</td>\n",
       "      <td>Steinway</td>\n",
       "      <td>40.775923</td>\n",
       "      <td>-73.902290</td>\n",
       "      <td>8.600</td>\n",
       "    </tr>\n",
       "    <tr>\n",
       "      <td>12</td>\n",
       "      <td>Queens</td>\n",
       "      <td>Sunnyside</td>\n",
       "      <td>40.740176</td>\n",
       "      <td>-73.926916</td>\n",
       "      <td>7.900</td>\n",
       "    </tr>\n",
       "    <tr>\n",
       "      <td>13</td>\n",
       "      <td>Staten Island</td>\n",
       "      <td>Sunnyside</td>\n",
       "      <td>40.612760</td>\n",
       "      <td>-74.097126</td>\n",
       "      <td>7.900</td>\n",
       "    </tr>\n",
       "    <tr>\n",
       "      <td>14</td>\n",
       "      <td>Queens</td>\n",
       "      <td>Sunnyside Gardens</td>\n",
       "      <td>40.745652</td>\n",
       "      <td>-73.918193</td>\n",
       "      <td>7.900</td>\n",
       "    </tr>\n",
       "    <tr>\n",
       "      <td>15</td>\n",
       "      <td>Manhattan</td>\n",
       "      <td>Turtle Bay</td>\n",
       "      <td>40.752042</td>\n",
       "      <td>-73.967708</td>\n",
       "      <td>9.000</td>\n",
       "    </tr>\n",
       "    <tr>\n",
       "      <td>16</td>\n",
       "      <td>Manhattan</td>\n",
       "      <td>Upper East Side</td>\n",
       "      <td>40.775639</td>\n",
       "      <td>-73.960508</td>\n",
       "      <td>8.200</td>\n",
       "    </tr>\n",
       "    <tr>\n",
       "      <td>17</td>\n",
       "      <td>Manhattan</td>\n",
       "      <td>Upper West Side</td>\n",
       "      <td>40.787658</td>\n",
       "      <td>-73.977059</td>\n",
       "      <td>8.000</td>\n",
       "    </tr>\n",
       "  </tbody>\n",
       "</table>\n",
       "</div>"
      ],
      "text/plain": [
       "          Borough          Neighborhood   Latitude  Longitude  Average Rating\n",
       "0        Brooklyn            Bath Beach  40.599519 -73.998752           7.400\n",
       "1        Brooklyn             Bay Ridge  40.625801 -74.030621           8.200\n",
       "2   Staten Island          Dongan Hills  40.588673 -74.096399           0.000\n",
       "3        Brooklyn         Dyker Heights  40.619219 -74.019314           8.200\n",
       "4          Queens  Forest Hills Gardens  40.714611 -73.841022           8.100\n",
       "5        Brooklyn             Gravesend  40.595260 -73.973471           7.100\n",
       "6        Brooklyn       Manhattan Beach  40.577914 -73.943537           7.975\n",
       "7        Brooklyn     Manhattan Terrace  40.614433 -73.957438           8.900\n",
       "8        Brooklyn         Ocean Parkway  40.613060 -73.968367           8.900\n",
       "9          Queens            Ravenswood  40.761705 -73.931575           8.600\n",
       "10       Brooklyn        Sheepshead Bay  40.586890 -73.943186           7.975\n",
       "11         Queens              Steinway  40.775923 -73.902290           8.600\n",
       "12         Queens             Sunnyside  40.740176 -73.926916           7.900\n",
       "13  Staten Island             Sunnyside  40.612760 -74.097126           7.900\n",
       "14         Queens     Sunnyside Gardens  40.745652 -73.918193           7.900\n",
       "15      Manhattan            Turtle Bay  40.752042 -73.967708           9.000\n",
       "16      Manhattan       Upper East Side  40.775639 -73.960508           8.200\n",
       "17      Manhattan       Upper West Side  40.787658 -73.977059           8.000"
      ]
     },
     "execution_count": 37,
     "metadata": {},
     "output_type": "execute_result"
    }
   ],
   "source": [
    "ny_neighborhood_stats"
   ]
  },
  {
   "cell_type": "markdown",
   "metadata": {},
   "source": [
    "#### Now let's form our map"
   ]
  },
  {
   "cell_type": "code",
   "execution_count": 38,
   "metadata": {},
   "outputs": [],
   "source": [
    "nyc_map = folium.Map(location=geo_location('New York'), zoom_start=11) #create map\n",
    "feature = folium.map.FeatureGroup() #create feature\n",
    "\n",
    "#loop through data\n",
    "for lat, lng, in ny_neighborhood_stats[['Latitude','Longitude']].values:\n",
    "    feature.add_child(\n",
    "        folium.CircleMarker(\n",
    "            [lat, lng],\n",
    "            radius=10, \n",
    "            color='red',\n",
    "            fill=True,\n",
    "            fill_color='blue',\n",
    "            fill_opacity=0.6\n",
    "        )\n",
    "    )\n",
    "    \n",
    "#add labels\n",
    "ny_neighborhood_stats['Label']=ny_neighborhood_stats['Neighborhood']+', '+ny_neighborhood_stats['Borough']+'('+ny_neighborhood_stats['Average Rating'].map(str)+')'\n",
    "\n",
    "# add pop-up text to each marker on the map\n",
    "for lat, lng, label in ny_neighborhood_stats[['Latitude','Longitude','Label']].values:\n",
    "    folium.Marker([lat, lng], popup=label).add_to(nyc_map) "
   ]
  },
  {
   "cell_type": "markdown",
   "metadata": {},
   "source": [
    "#### Here's our map"
   ]
  },
  {
   "cell_type": "code",
   "execution_count": 39,
   "metadata": {},
   "outputs": [
    {
     "data": {
      "text/html": [
       "<div style=\"width:100%;\"><div style=\"position:relative;width:100%;height:0;padding-bottom:60%;\"><iframe src=\"data:text/html;charset=utf-8;base64,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\" style=\"position:absolute;width:100%;height:100%;left:0;top:0;border:none !important;\" allowfullscreen webkitallowfullscreen mozallowfullscreen></iframe></div></div>"
      ],
      "text/plain": [
       "<folium.folium.Map at 0x15f5fd73ef0>"
      ]
     },
     "execution_count": 39,
     "metadata": {},
     "output_type": "execute_result"
    }
   ],
   "source": [
    "nyc_map.add_child(feature)"
   ]
  },
  {
   "cell_type": "markdown",
   "metadata": {},
   "source": [
    "<i> Let's save the map for future use and to reduce the number of runs </i>"
   ]
  },
  {
   "cell_type": "code",
   "execution_count": 41,
   "metadata": {},
   "outputs": [],
   "source": [
    "nyc_map.add_child(feature).save('turkish_rest_nyc_map.html')"
   ]
  },
  {
   "cell_type": "markdown",
   "metadata": {},
   "source": [
    "#### Visualizing boroughs based on average rating"
   ]
  },
  {
   "cell_type": "markdown",
   "metadata": {},
   "source": [
    "<i> Let's get the borough boundaries geojson file ready </i>"
   ]
  },
  {
   "cell_type": "code",
   "execution_count": 40,
   "metadata": {},
   "outputs": [],
   "source": [
    "borough_map = folium.Map(location=geo_location('New York'), zoom_start=11)\n",
    "borough_geo = r'Borough Boundaries.geojson'\n",
    "\n",
    "borough_map.choropleth(\n",
    "    geo_data=borough_geo,\n",
    "    data=ny_borough_stats,\n",
    "    columns=['Borough', 'Average Rating'],\n",
    "    key_on='feature.properties.boro_name',\n",
    "    fill_color='YlGn', \n",
    "    fill_opacity=0.7, \n",
    "    line_opacity=0.2,\n",
    "    legend_name='Average Rating'\n",
    ")\n",
    "\n",
    "# display map and save it into an html file\n",
    "\n",
    "borough_map.save('turkish_rest_borough_rating.html')"
   ]
  },
  {
   "cell_type": "markdown",
   "metadata": {},
   "source": [
    "## Results\n",
    "\n",
    "In this study, we analyzed the Turkish restaurants in one of the most cosmopolitan cities of United States, New York City. The analysis used New York geolocation data and identified Turkish restaurants using Foursquare API. Further analysis was performed on the concentration of the Turkish restaurants on New Yorks boroughs and neighborhoods as well as the ratings of the identified restaurants. \n",
    "\n",
    "Our analysis shows that even if there's an increasing number of Turkish people migrating into the United States and especially New York City, the number of Turkish restaurants within the City boundaries are very limited. The number of restaurants identified as Turkish cuisine only came up to be 27 and out of the 27, Brooklyn had the most with 8 restaurants. As can be seen from the map, most restaurants with Turkish cuisine are located near seaside neighborhoods. There are 10 of these restaurants that are distributed between Brooklyn and Staten Island. Manhattan, as the most touristic boroughs of all, has only 3 restaurants that serve Turkish cuisine. \n",
    "\n",
    "To sum up the results, we can say that if you'd like to have dinner or lunch at a Turkish restaurant while visiting New York City, you're best off staying either in Brooklyn or Queens. These two neighborhoods host 12 of the 27 Turkish restaurants in New York City. Out of the five boroughs in NYC, Bronx doesn't have any Turkish restaurants. Overall, this analysis shows that most Turkish restaurants are located close to residential boroughs like Brooklyn, Queens and Staten Island than commercial ones like Manhattan. "
   ]
  },
  {
   "cell_type": "code",
   "execution_count": null,
   "metadata": {},
   "outputs": [],
   "source": []
  }
 ],
 "metadata": {
  "kernelspec": {
   "display_name": "Python 3",
   "language": "python",
   "name": "python3"
  },
  "language_info": {
   "codemirror_mode": {
    "name": "ipython",
    "version": 3
   },
   "file_extension": ".py",
   "mimetype": "text/x-python",
   "name": "python",
   "nbconvert_exporter": "python",
   "pygments_lexer": "ipython3",
   "version": "3.7.3"
  }
 },
 "nbformat": 4,
 "nbformat_minor": 2
}
